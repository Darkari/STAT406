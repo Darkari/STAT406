{
 "cells": [
  {
   "cell_type": "markdown",
   "metadata": {},
   "source": [
    "STAT406 - Lecture 10 notes\n",
    "================\n",
    "Matias Salibian-Barrera\n",
    "2018-09-28\n",
    "\n",
    "#### LICENSE\n",
    "\n",
    "These notes are released under the \"Creative Commons Attribution-ShareAlike 4.0 International\" license. See the **human-readable version** [here](https://creativecommons.org/licenses/by-sa/4.0/) and the **real thing** [here](https://creativecommons.org/licenses/by-sa/4.0/legalcode).\n",
    "\n",
    "Lecture slides\n",
    "--------------\n",
    "\n",
    "The lecture slides will be here.\n",
    "\n",
    "Regression trees\n",
    "----------------\n",
    "\n",
    "Trees provide a non-parametric regression estimator that is able to overcome a serious limitation of \"classical non-parametric\" estimators (like those based on splines, or kernels) when several (more than 2 or 3) explanatory variables are available.\n",
    "\n",
    "Below we first describe the problem afflicting classical non-parametric methods (this is also known as the \"curse of dimensionality\") and then describe how to compute regression trees in `R` using the `rpart` package (although other implementations exist). Details were discussed in class.\n",
    "\n",
    "### Curse of dimensionality\n",
    "\n",
    "Suppose you have a random sample of *n = 100* observations, uniformly distributed on the \\[0, 1\\] interval. How many do you expect to find within 0.25 of the middle point of the interval (i.e. how many will be between 0.25 and 0.75)? A trivial calculation shows that the expected number of observations falling between 0.25 and 0.75 will be *n/2*, in this case *50*. This is easy verified with a simple numerical experiment:"
   ]
  },
  {
   "cell_type": "code",
   "execution_count": null,
   "metadata": {},
   "outputs": [],
   "source": [
    "# X ~ U(0,1)\n",
    "# how many points do you expect within 0.25 of 1/2?\n",
    "set.seed(1234)\n",
    "n <- 100\n",
    "x <- runif(n)\n",
    "( sum( abs(x-1/2) < 0.25 ) )# half the width of the dist'n"
   ]
  },
  {
   "cell_type": "markdown",
   "metadata": {},
   "source": [
    "(wow! what are the chances?)\n",
    "\n",
    "Consider now a sample of 100 observations, each with 5 variables (5-dimensional observations), uniformly distributed in the 5-dimensional unit cube (*\\[0,1\\]^5*). How many do you expect to see in the *central hypercube* with sides \\[0.25, 0.75\\] x \\[0.25, 0.75\\] ... x \\[0.25, 0.75\\] = \\[0.25, 0.75\\]^5? A simple experiment shows that this number is probably rather small:"
   ]
  },
  {
   "cell_type": "code",
   "execution_count": null,
   "metadata": {},
   "outputs": [],
   "source": [
    "p <- 5\n",
    "x <- matrix( runif(n*p), n, p)\n",
    "# how many points in the hypercube (0.25, 0.75)^p ?\n",
    "tmp <- apply(x, 1, function(a) all(abs(a-1/2)<0.25))\n",
    "( sum(tmp) )"
   ]
  },
  {
   "cell_type": "markdown",
   "metadata": {},
   "source": [
    "In fact, the expected number of observations in that central hypercube is exactly *n / 2^5*, which is approximately *3* when *n = 100*.\n",
    "\n",
    "A relevant question for our local regression estimation problem is: \"how large should our sample be if we want to still have about 50 observations in our central hypercube?\". Easy calculations show that this number is *50 / (1/2)^p*, which, for *p = 5* is *1600*. Again, we can verify this with a simple experiment:"
   ]
  },
  {
   "cell_type": "code",
   "execution_count": null,
   "metadata": {},
   "outputs": [],
   "source": [
    "# how many obs do we need to have 50 in the hypercube?\n",
    "n <- 50 / (0.5^p)\n",
    "x <- matrix( runif(n*p), n, p)\n",
    "# how many points in the hypercube (0.25, 0.75)^p ?\n",
    "tmp <- apply(x, 1, function(a) all(abs(a-1/2)<0.25))\n",
    "( sum(tmp) )"
   ]
  },
  {
   "cell_type": "markdown",
   "metadata": {},
   "source": [
    "So we see that if the dimension of our problem increases from *p = 1* to *p = 5*, the number of observations we need to maintain an expectation of having about 50 points in our central hypercube increases by a factor of 16 (not 5). However, if we double the dimension of the problem (to *p = 10*), in order to expect 50 observations in the central \\[0.25, 0.75\\] hypercube we need a sample of size *n = 51,200*. In other words, we doubled the dimension, but need 32 times more data (!) to *fill* the central hypercube with the same number of points. Moreover, if we doubled the dimension again (to *p = 20*) we would need over 52 million observations to have (just!) 50 in the central hypercube! Note that now we doubled the dimension again but need 1024 times more data! The number of observations needed to maintain a fixed number of observations in a region of the space grows exponentially with the dimension of the space.\n",
    "\n",
    "Another way to think about this problem is to ask: \"given a sample size of *n = 1000*, say, how wide / large should the central hypercube be to expect about *50* observations in it?\". The answer is easily found to be *1 / (2 (n/50)^(1/p))*, which for *n = 1000* and *p = 5* equals 0.27, with *p = 10* is 0.37 and with *p = 20* is 0.43, almost the full unit hypercube!\n",
    "\n",
    "In this sense it is fair to say that in moderate to high dimensions *local neighbourhoods* are either empty or not really *local*.\n",
    "\n",
    "<!-- ```{r curse.3, fig.width=5, fig.height=5, message=FALSE, warning=FALSE} -->\n",
    "<!-- # how wide should the hypercube be to get 50 neighbours -->\n",
    "<!-- # with sample of 1000 points? -->\n",
    "<!-- n <- 1000 -->\n",
    "<!-- p <- 20 -->\n",
    "<!-- ( h <- 1 / ((n / 50)^(1/p) * 2) ) -->\n",
    "<!-- # the sides of the \"central hypercube\" should be: -->\n",
    "<!-- ( c(0.50 - h, 0.50 + h) ) -->\n",
    "<!-- # verify it with a single sample: -->\n",
    "<!-- x <- matrix( runif(n*p), n, p) -->\n",
    "<!-- # how many points in the hypercube (0.25, 0.75)^p ? -->\n",
    "<!-- tmp <- apply(x, 1, h=h, function(a,h) all(abs(a-1/2)<h)) -->\n",
    "<!-- ( sum(tmp) ) -->\n",
    "<!-- ``` -->\n",
    "### Regression trees as constrained non-parametric regression\n",
    "\n",
    "Regression trees provide an alternative non-regression estimator that works well, even with many available features. As discussed in class, the basic idea is to approximate the regression function by a linear combination of \"simple\" functions (i.e. functions *h*(*x*)=*I*(*x* ∈ *A*) which equals 1 if the argument *x* belongs to the set *A*, and 0 otherwise. Each function has its own support set *A*. Furthermore, this linear combination is not estimated at once, but iteratively, and only considering a specific class of sets *A* (which ones?) As a result, the regression tree is not the *global* optimal approximation by simple functions, but a good *suboptimal* one, that can be computed very rapidly. Details were discussed in class, refer to your notes and the corresponding slides.\n",
    "\n",
    "There are several packages in `R` implementing trees, in this course we will use `rpart`. To illustrate their use we will consider the `Boston` data set, that contains information on housing in the US city of Boston. The corresponding help page contains more information.\n",
    "\n",
    "**To simplify the comparison here** of the predictions obtained by trees and other regression estimators, instead of using K-fold CV, we start by randomly splitting the available data into a training and a test set:"
   ]
  },
  {
   "cell_type": "code",
   "execution_count": null,
   "metadata": {},
   "outputs": [],
   "source": [
    "library(rpart)\n",
    "data(Boston, package='MASS')\n",
    "# split data into a training and\n",
    "# a test set\n",
    "set.seed(123456) \n",
    "n <- nrow(Boston)\n",
    "ii <- sample(n, floor(n/4))\n",
    "dat.te <- Boston[ ii, ]\n",
    "dat.tr <- Boston[ -ii, ]"
   ]
  },
  {
   "cell_type": "markdown",
   "metadata": {},
   "source": [
    "We now build a regression tree using the function `rpart` and leave most of its arguments to their default values. We specify the response and explanatory variables using a `formula`, as usual, and set `method='anova'` to indicate we want to train a regression tree (as opposed to a classification one, for example). Finally, we use the corresponding `plot` method to display the tree structure:\n",
    "\n",
    "<!-- # ```{r tree2, fig.width=6, fig.height=6, message=FALSE, warning=FALSE} -->\n",
    "<!-- # set.seed(123) -->\n",
    "<!-- # bos.t <- rpart(medv ~ ., data=dat.tr, method='anova') -->\n",
    "<!-- # plot(bos.t, uniform=TRUE, margin=0.05) -->\n",
    "<!-- # text(bos.t, pretty=TRUE) -->\n",
    "<!-- # ``` -->\n",
    "<!-- Another plot? -->"
   ]
  },
  {
   "cell_type": "code",
   "execution_count": null,
   "metadata": {},
   "outputs": [],
   "source": [
    "set.seed(123)\n",
    "bos.t <- rpart(medv ~ ., data=dat.tr, method='anova')\n",
    "plot(bos.t, uniform=FALSE, margin=0.05)\n",
    "text(bos.t, pretty=TRUE)"
   ]
  },
  {
   "cell_type": "markdown",
   "metadata": {},
   "source": [
    "A few questions for you:\n",
    "\n",
    "-   Why did we set the pseudo-random generation seed (`set.seed(123)`) before calling `rpart`? Is there anything random about building these trees?\n",
    "-   What does the `uniform` argument for `plot.rpart` do? What does `text` do here?\n",
    "\n",
    "#### Compare predictions\n",
    "\n",
    "We now compare the predictions we obtain on the test with the above regression tree, the usual linear model using all explanatory variables, another one constructed using stepwise variable selections methods, and the \"optimal\" LASSO.\n",
    "\n",
    "First, we estimate the MSPE of the regression tree using the test set:"
   ]
  },
  {
   "cell_type": "code",
   "execution_count": null,
   "metadata": {},
   "outputs": [],
   "source": [
    "# predictions on the test set\n",
    "pr.t <- predict(bos.t, newdata=dat.te, type='vector')\n",
    "with(dat.te, mean( (medv - pr.t)^2) )"
   ]
  },
  {
   "cell_type": "markdown",
   "metadata": {},
   "source": [
    "For a full linear model, the estimated MSPE using the test set is:"
   ]
  },
  {
   "cell_type": "code",
   "execution_count": null,
   "metadata": {},
   "outputs": [],
   "source": [
    "# full linear model\n",
    "bos.lm <- lm(medv ~ ., data=dat.tr)\n",
    "pr.lm <- predict(bos.lm, newdata=dat.te)\n",
    "with(dat.te, mean( (medv - pr.lm)^2) )"
   ]
  },
  {
   "cell_type": "markdown",
   "metadata": {},
   "source": [
    "The estimated MSPE of a linear model constructed via stepwise is:"
   ]
  },
  {
   "cell_type": "code",
   "execution_count": null,
   "metadata": {},
   "outputs": [],
   "source": [
    "library(MASS)\n",
    "null <- lm(medv ~ 1, data=dat.tr)\n",
    "full <- lm(medv ~ ., data=dat.tr)\n",
    "bos.aic <- stepAIC(null, scope=list(lower=null, upper=full), trace=FALSE)\n",
    "pr.aic <- predict(bos.aic, newdata=dat.te)\n",
    "with(dat.te, mean( (medv - pr.aic)^2 ) )"
   ]
  },
  {
   "cell_type": "markdown",
   "metadata": {},
   "source": [
    "Finally, the estimated MSPE of the \"optimal\" LASSO fit is:"
   ]
  },
  {
   "cell_type": "code",
   "execution_count": null,
   "metadata": {},
   "outputs": [],
   "source": [
    "# LASSO?\n",
    "library(glmnet)\n",
    "x.tr <- as.matrix(dat.tr[,-14])\n",
    "y.tr <- as.vector(dat.tr$medv)\n",
    "set.seed(123)\n",
    "bos.la <- cv.glmnet(x=x.tr, y=y.tr, alpha=1)\n",
    "x.te <- as.matrix(dat.te[,-14])\n",
    "pr.la <- predict(bos.la, s='lambda.1se', newx=x.te)\n",
    "with(dat.te, mean( (medv - pr.la)^2 ) )"
   ]
  },
  {
   "cell_type": "markdown",
   "metadata": {},
   "source": [
    "Note that the regression tree appears to have the best MSPE, although we cannot really assess whether the observed differences are beyond the uncertainty associated with our MSPE estimators. In other words, would these differences still be so if we used a different training / test data split? In fact, a very good exercise for you would be to repeat the above comparison using **many** different training/test splits, or even better: using all the data for training and K-fold CV to estimate the different MSPEs.\n",
    "\n",
    "<!-- Sanity check: -->\n",
    "<!-- ```{r prune7, fig.width=6, fig.height=6, message=FALSE, warning=FALSE} -->\n",
    "<!-- pr.t4 <- predict(bos.t4, newdata=dat.te, type='vector') -->\n",
    "<!-- with(dat.te, mean((medv - pr.t4)^2) ) -->\n",
    "<!-- # same tree, really -->\n",
    "<!-- with(dat.te, mean((medv - pr.t)^2) ) -->\n",
    "<!-- ``` -->"
   ]
  }
 ],
 "metadata": {
  "kernelspec": {
   "display_name": "R",
   "language": "R",
   "name": "ir"
  },
  "language_info": {
   "codemirror_mode": "r",
   "file_extension": ".r",
   "mimetype": "text/x-r-source",
   "name": "R",
   "pygments_lexer": "r",
   "version": "3.5.0"
  }
 },
 "nbformat": 4,
 "nbformat_minor": 2
}
