{
 "cells": [
  {
   "cell_type": "markdown",
   "metadata": {},
   "source": [
    "STAT406 - Lecture 7 notes\n",
    "================\n",
    "Matias Salibian-Barrera\n",
    "2018-09-20\n",
    "\n",
    "#### LICENSE\n",
    "\n",
    "These notes are released under the \"Creative Commons Attribution-ShareAlike 4.0 International\" license. See the **human-readable version** [here](https://creativecommons.org/licenses/by-sa/4.0/) and the **real thing** [here](https://creativecommons.org/licenses/by-sa/4.0/legalcode).\n",
    "\n",
    "Lecture slides\n",
    "--------------\n",
    "\n",
    "Preliminary lecture slides are [here](STAT406-18-lecture-7-preliminary.pdf).\n",
    "\n",
    "LASSO\n",
    "-----\n",
    "\n",
    "A different approach to perform *some kind* of variable selection that may be more stable than stepwise methods is to use an L1 regularization term (instead of the L2 one used in ridge regression). Notwidthstanding the geometric \"interpretation\" of the effect of using an L1 penalty, it can also be argued that the L1 norm is, in some cases, a convex relaxation (envelope) of the \"L0\" norm (the number of non-zero elements). As a result, estimators based on the LASSO (L1-regularized regression) will typically have some of their entries equal to zero.\n",
    "\n",
    "Just as it was the case for Ridge Regression, as the value of the penalty parameter increases, the solutions to the L1 regularized problem change from the usual least squares estimator (when the regularization parameter equals to zero) to a vector of all zeroes (when the penalty constant is sufficiently large). One difference between using an L1 or an L2 penalty is that for an L1-regularized problem, there usually is a finite value of the penalty term that produces a solution of all zeroes, whereas for the L2 penalizations this is not generally true.\n",
    "\n",
    "The sequence of solutions changing by value of the penalty parameter is often used as a way to rank (or \"sequence\"\") the explanatory variables, listing them in the order in which they \"enter\" (their estimated coefficient changes from zero to a non-zero value). <!-- Varying the value of the penalty term we obtain a path of solutions (much like --> <!-- we did in ridge regression), where the vector of estimated regression --> <!-- coefficients becomes sparser as the penalty gets stronger.  --> We can also estimate the MSPE of each solution (on a finite grid of values of the penalty parameter) to select one with good prediction properties. If any of the estimated regression coefficients in the selected solution are exactly zero it is commonly said that those explanatory variables are not included in the chosen model.\n",
    "\n",
    "There are two main implementation of the LASSO in `R`, one is via the `glmnet` function (in package `glmnet`), and the other is with the function `lars` in package `lars`. Both, of course, compute the same estimators, but they do so in different ways.\n",
    "\n",
    "We first compute the path of LASSO solutions for the `credit` data used in previous lectures:"
   ]
  },
  {
   "cell_type": "code",
   "execution_count": null,
   "metadata": {},
   "outputs": [],
   "source": [
    "x <- read.table('../Lecture5/Credit.csv', sep=',', header=TRUE, row.names=1)\n",
    "# use non-factor variables\n",
    "x <- x[, c(1:6, 11)]\n",
    "y <- as.vector(x$Balance)\n",
    "xm <- as.matrix(x[, -7])\n",
    "library(glmnet)\n",
    "# alpha = 1 - LASSO\n",
    "lambdas <- exp( seq(-3, 10, length=50))\n",
    "a <- glmnet(x=xm, y=y, lambda=rev(lambdas),\n",
    "            family='gaussian', alpha=1, intercept=TRUE)"
   ]
  },
  {
   "cell_type": "markdown",
   "metadata": {},
   "source": [
    "The `plot` method can be used to show the path of solutions, just as we did for ridge regression:"
   ]
  },
  {
   "cell_type": "code",
   "execution_count": null,
   "metadata": {},
   "outputs": [],
   "source": [
    "plot(a, xvar='lambda', label=TRUE, lwd=6, cex.axis=1.5, cex.lab=1.2)"
   ]
  },
  {
   "cell_type": "markdown",
   "metadata": {},
   "source": [
    "Using `lars::lars()` we obtain:"
   ]
  },
  {
   "cell_type": "code",
   "execution_count": null,
   "metadata": {},
   "outputs": [],
   "source": [
    "library(lars)\n",
    "b <- lars(x=xm, y=y, type='lasso', intercept=TRUE)\n",
    "plot(b, lwd=4)"
   ]
  },
  {
   "cell_type": "markdown",
   "metadata": {},
   "source": [
    "With `lars` the returned object is a matrix of regression estimators, one for each value of the penalty constant where a new coefficient \"enters\" the model:"
   ]
  },
  {
   "cell_type": "code",
   "execution_count": null,
   "metadata": {},
   "outputs": [],
   "source": [
    "# see the variables\n",
    "coef(b)"
   ]
  },
  {
   "cell_type": "code",
   "execution_count": null,
   "metadata": {},
   "outputs": [],
   "source": [
    "b"
   ]
  },
  {
   "cell_type": "markdown",
   "metadata": {},
   "source": [
    "The presentation below exploits the fact that the LASSO regression estimators are piecewise linear between values of the regularization parameter where a variable enters or drops the model.\n",
    "\n",
    "In order to select one LASSO estimator (among the infinitely many that are possible) we can use K-fold CV to estimate the MSPE of a few of them (for a grid of values of the penalty parameter, for example), and choose the one with smallest estimated MSPE:"
   ]
  },
  {
   "cell_type": "code",
   "execution_count": null,
   "metadata": {},
   "outputs": [],
   "source": [
    "# select one solution\n",
    "set.seed(123)\n",
    "tmp.la <- cv.lars(x=xm, y=y, intercept=TRUE, type='lasso', K=5,\n",
    "                  index=seq(0, 1, length=20))"
   ]
  },
  {
   "cell_type": "markdown",
   "metadata": {},
   "source": [
    "Given their random nature, it is always a good idea to run K-fold CV experiments more than once:"
   ]
  },
  {
   "cell_type": "code",
   "execution_count": null,
   "metadata": {},
   "outputs": [],
   "source": [
    "set.seed(23)\n",
    "tmp.la <- cv.lars(x=xm, y=y, intercept=TRUE, type='lasso', K=5,\n",
    "                  index=seq(0, 1, length=20))"
   ]
  },
  {
   "cell_type": "markdown",
   "metadata": {},
   "source": [
    "We now repeat the same steps as above but using the implementation in `glmnet`:"
   ]
  },
  {
   "cell_type": "code",
   "execution_count": null,
   "metadata": {},
   "outputs": [],
   "source": [
    "# run 5-fold CV with glmnet()\n",
    "set.seed(123)\n",
    "tmp <- cv.glmnet(x=xm, y=y, lambda=lambdas, nfolds=5, alpha=1, \n",
    "                 family='gaussian', intercept=TRUE)\n",
    "plot(tmp, lwd=6, cex.axis=1.5, cex.lab=1.2)"
   ]
  },
  {
   "cell_type": "markdown",
   "metadata": {},
   "source": [
    "We ran CV again:"
   ]
  },
  {
   "cell_type": "code",
   "execution_count": null,
   "metadata": {},
   "outputs": [],
   "source": [
    "set.seed(23)\n",
    "tmp <- cv.glmnet(x=xm, y=y, lambda=lambdas, nfolds=5, alpha=1, \n",
    "                 family='gaussian', intercept=TRUE)\n",
    "plot(tmp, lwd=6, cex.axis=1.5, cex.lab=1.2)"
   ]
  },
  {
   "cell_type": "markdown",
   "metadata": {},
   "source": [
    "Zoom in the CV plot to check the 1-SE rule:"
   ]
  },
  {
   "cell_type": "code",
   "execution_count": null,
   "metadata": {},
   "outputs": [],
   "source": [
    "plot(tmp, lwd=6, cex.axis=1.5, cex.lab=1.2, ylim=c(22000, 33000))"
   ]
  },
  {
   "cell_type": "markdown",
   "metadata": {},
   "source": [
    "The returned object includes the \"optimal\" value of the penalization parameter, which can be used to find the corresponding estimates for the regression coefficients, using the method `coef`:"
   ]
  },
  {
   "cell_type": "code",
   "execution_count": null,
   "metadata": {},
   "outputs": [],
   "source": [
    "# optimal lambda\n",
    "tmp$lambda.min"
   ]
  },
  {
   "cell_type": "code",
   "execution_count": null,
   "metadata": {},
   "outputs": [],
   "source": [
    "# coefficients for the optimal lambda\n",
    "coef(tmp, s=tmp$lambda.min)"
   ]
  },
  {
   "cell_type": "markdown",
   "metadata": {},
   "source": [
    "We can also use `coef` to compute the coefficients at any value of the penalty parameter. For example we show below the coefficients corresponding to penalty values of exp(4) and exp(4.5):"
   ]
  },
  {
   "cell_type": "code",
   "execution_count": null,
   "metadata": {},
   "outputs": [],
   "source": [
    "# coefficients for other values of lambda\n",
    "coef(tmp, s=exp(4))"
   ]
  },
  {
   "cell_type": "code",
   "execution_count": null,
   "metadata": {},
   "outputs": [],
   "source": [
    "coef(tmp, s=exp(4.5)) # note no. of zeroes..."
   ]
  },
  {
   "cell_type": "markdown",
   "metadata": {},
   "source": [
    "Compare MSPEs of Ridge & LASSO on the credit data\n",
    "-------------------------------------------------\n",
    "\n",
    "We now use 50 runs of 5-fold cross-validation to estimate (and compare) the MSPEs of the different estimators / predictors:"
   ]
  },
  {
   "cell_type": "code",
   "execution_count": null,
   "metadata": {},
   "outputs": [],
   "source": [
    "library(MASS)\n",
    "n <- nrow(xm)\n",
    "k <- 5\n",
    "ii <- (1:n) %% k + 1\n",
    "set.seed(123)\n",
    "N <- 50\n",
    "mspe.la <- mspe.st <- mspe.ri <- mspe.f <- rep(0, N)\n",
    "for(i in 1:N) {\n",
    "  ii <- sample(ii)\n",
    "  pr.la <- pr.f <- pr.ri <- pr.st <- rep(0, n)\n",
    "  for(j in 1:k) {\n",
    "    tmp.ri <- cv.glmnet(x=xm[ii != j, ], y=y[ii != j], lambda=lambdas, \n",
    "                        nfolds=5, alpha=0, family='gaussian') \n",
    "    tmp.la <- cv.glmnet(x=xm[ii != j, ], y=y[ii != j], lambda=lambdas, \n",
    "                        nfolds=5, alpha=1, family='gaussian')\n",
    "    null <- lm(Balance ~ 1, data=x[ii != j, ])\n",
    "    full <- lm(Balance ~ ., data=x[ii != j, ])\n",
    "    tmp.st <- stepAIC(null, scope=list(lower=null, upper=full), trace=0)\n",
    "    pr.ri[ ii == j ] <- predict(tmp.ri, s='lambda.min', newx=xm[ii==j,])\n",
    "    pr.la[ ii == j ] <- predict(tmp.la, s='lambda.min', newx=xm[ii==j,])\n",
    "    pr.st[ ii == j ] <- predict(tmp.st, newdata=x[ii==j,])\n",
    "    pr.f[ ii == j ] <- predict(full, newdata=x[ii==j,])\n",
    "  }\n",
    "  mspe.ri[i] <- mean( (x$Balance - pr.ri)^2 )\n",
    "  mspe.la[i] <- mean( (x$Balance - pr.la)^2 )\n",
    "  mspe.st[i] <- mean( (x$Balance - pr.st)^2 )\n",
    "  mspe.f[i] <- mean( (x$Balance - pr.f)^2 )\n",
    "}\n",
    "boxplot(mspe.la, mspe.ri, mspe.st, mspe.f, names=c('LASSO','Ridge', 'Stepwise', 'Full'), col=c('steelblue', 'gray80', 'tomato', 'springgreen'), cex.axis=1, cex.lab=1, cex.main=2)\n",
    "mtext(expression(hat(MSPE)), side=2, line=2.5)"
   ]
  },
  {
   "cell_type": "markdown",
   "metadata": {},
   "source": [
    "We see that in this example LASSO does not seem to provide better predictions than Ridge Regression. However, it does yield a sequence of explanatory variables that can be interpreted as based on \"importance\" for the linear regression model (see above).\n",
    "\n",
    "Comparing LASSO with Ridge Regression on the air pollution data\n",
    "---------------------------------------------------------------\n",
    "\n",
    "Let us compare the Ridge Regression and LASSO fits to the air pollution data. Of course, by *the Ridge Regression fit* and *the LASSO fit* we mean the fit obtained with the optimal value of the penalty constant chosen in terms of the corresponding estimated MSPE (which is in general estimated using K-fold cross validation).\n",
    "\n",
    "We first load the data and use `cv.glmnet()` with `alpha = 0` to select an **approximately optimal** Ridge Regression fit (what makes the calculation below **only approximately** optimal?)."
   ]
  },
  {
   "cell_type": "code",
   "execution_count": null,
   "metadata": {},
   "outputs": [],
   "source": [
    "airp <- read.table('../Lecture1/rutgers-lib-30861_CSV-1.csv', header=TRUE, sep=',')\n",
    "y <- as.vector(airp$MORT)\n",
    "xm <- as.matrix(airp[, names(airp) != 'MORT'])\n",
    "library(glmnet)\n",
    "lambdas <- exp( seq(-3, 10, length=50))\n",
    "# Ridge Regression\n",
    "set.seed(23)\n",
    "air.l2 <- cv.glmnet(x=xm, y=y, lambda=lambdas, nfolds=5, alpha=0, \n",
    "                 family='gaussian', intercept=TRUE)\n",
    "plot(air.l2)"
   ]
  },
  {
   "cell_type": "markdown",
   "metadata": {},
   "source": [
    "The plot above is included for illustration purposes only. Similarly, we now compute an approximately optimal LASSO fit, and look at the curve of estimated MSPEs:"
   ]
  },
  {
   "cell_type": "code",
   "execution_count": null,
   "metadata": {},
   "outputs": [],
   "source": [
    "# LASSO\n",
    "set.seed(23)\n",
    "air.l1 <- cv.glmnet(x=xm, y=y, lambda=lambdas, nfolds=5, alpha=1, \n",
    "                 family='gaussian', intercept=TRUE)\n",
    "plot(air.l1)"
   ]
  },
  {
   "cell_type": "markdown",
   "metadata": {},
   "source": [
    "It is interesting to compare the corresponding estimated regression coefficients, so we put them side by side in two columns:"
   ]
  },
  {
   "cell_type": "code",
   "execution_count": null,
   "metadata": {},
   "outputs": [],
   "source": [
    "cbind(round(coef(air.l2, s='lambda.min'), 3),\n",
    "round(coef(air.l1, s='lambda.min'), 3))"
   ]
  },
  {
   "cell_type": "markdown",
   "metadata": {},
   "source": [
    "Note how several of them are relatively similar, but LASSO includes fewer of them. A possible explanation for this is the particular correlation structure among the explanatory variables. More specifically, when groups of correlated covariates are present, LASSO tends to choose only one of them, whereas Ridge Regression will tend to keep all of them. For a formal statement see Lemma 2 of\n",
    "\n",
    "> Zou, H. and Hastie, T. (2005). Regularization and variable selection via the elastic net. *Journal of the Royal Statistical Society: Series B (Statistical Methodology)*, **67**(2), 301-320. [DOI: 10.1111/j.1467-9868.2005.00503.x](http://dx.doi.org/10.1111/j.1467-9868.2005.00503.x)\n",
    "\n",
    "It is important to note here that the above observations regarding the Ridge Regression and LASSO fits trained on the air pollution data should be made on a more reliable (more stable, less variable) choice of penalty parameter. For example, we may want to run the above 5-fold CV experiments several times and take the average of the estimated optimal penalty parameters. To simplify the presentation we do not purse this here, but it may be a very good exercise for the reader to do so.\n",
    "\n",
    "The following heatmap of the pairwise correlations among explanatory variables reveals certain patterns that may be used to explain the difference mentioned above. Note that in this visualization method variables were grouped (\"clustered\") according to their pairwise correlations in order to improve the interpretability of the plot. We will see later in this course the particular clustering method used here (hierarchical clustering)."
   ]
  },
  {
   "cell_type": "code",
   "execution_count": null,
   "metadata": {},
   "outputs": [],
   "source": [
    "library(ggcorrplot)\n",
    "ggcorrplot(cor(xm), hc.order = TRUE, outline.col = \"white\")"
   ]
  },
  {
   "cell_type": "markdown",
   "metadata": {},
   "source": [
    "<!-- # # https://briatte.github.io/ggcorr/ -->\n",
    "<!-- # source('https://raw.githubusercontent.com/briatte/ggcorr/master/ggcorr.R') -->\n",
    "<!-- # library(ggplot2) -->\n",
    "<!-- #  -->\n",
    "<!-- # ggcorr(xm) -->\n",
    "<!-- # ggcorr(xm, nbreaks=3) -->\n",
    "<!-- #  -->\n",
    "<!-- # ggcorr(xm, geom = \"blank\", label = TRUE, hjust = 0.75) + -->\n",
    "<!-- #   geom_point(size = 10, aes(color = coefficient > 0, alpha = abs(coefficient) > 0.5)) + -->\n",
    "<!-- #   scale_alpha_manual(values = c(\"TRUE\" = 0.25, \"FALSE\" = 0)) + -->\n",
    "<!-- #   guides(color = FALSE, alpha = FALSE) -->\n",
    "\n",
    "Compare MSPE of Ridge and LASSO on air pollution data\n",
    "-----------------------------------------------------\n",
    "\n",
    "Since our focus was on the properties of the resulting predictions, it may be interesting to compare the estimated MSPE of the different models / predictors we have considered so far: a full linear model, a model selected via stepwise + AIC, ridge regression and LASSO. As usual, we use 50 runs of 5-fold CV"
   ]
  },
  {
   "cell_type": "code",
   "execution_count": null,
   "metadata": {},
   "outputs": [],
   "source": [
    "library(MASS)\n",
    "n <- nrow(xm)\n",
    "k <- 5\n",
    "ii <- (1:n) %% k + 1\n",
    "set.seed(123)\n",
    "N <- 50\n",
    "mspe.la <- mspe.st <- mspe.ri <- mspe.f <- rep(0, N)\n",
    "for(i in 1:N) {\n",
    "  ii <- sample(ii)\n",
    "  pr.la <- pr.f <- pr.ri <- pr.st <- rep(0, n)\n",
    "  for(j in 1:k) {\n",
    "    tmp.ri <- cv.glmnet(x=xm[ii != j, ], y=y[ii != j], lambda=lambdas, \n",
    "                        nfolds=5, alpha=0, family='gaussian') \n",
    "    tmp.la <- cv.glmnet(x=xm[ii != j, ], y=y[ii != j], lambda=lambdas, \n",
    "                        nfolds=5, alpha=1, family='gaussian')\n",
    "    null <- lm(MORT ~ 1, data=airp[ii != j, ])\n",
    "    full <- lm(MORT ~ ., data=airp[ii != j, ])\n",
    "    tmp.st <- stepAIC(null, scope=list(lower=null, upper=full), trace=FALSE)\n",
    "    pr.ri[ ii == j ] <- predict(tmp.ri, s='lambda.min', newx=xm[ii==j,])\n",
    "    pr.la[ ii == j ] <- predict(tmp.la, s='lambda.min', newx=xm[ii==j,])\n",
    "    pr.st[ ii == j ] <- predict(tmp.st, newdata=airp[ii==j,])\n",
    "    pr.f[ ii == j ] <- predict(full, newdata=airp[ii==j,])\n",
    "  }\n",
    "  mspe.ri[i] <- mean( (airp$MORT - pr.ri)^2 )\n",
    "  mspe.la[i] <- mean( (airp$MORT - pr.la)^2 )\n",
    "  mspe.st[i] <- mean( (airp$MORT - pr.st)^2 )\n",
    "  mspe.f[i] <- mean( (airp$MORT - pr.f)^2 )\n",
    "}"
   ]
  },
  {
   "cell_type": "markdown",
   "metadata": {},
   "source": [
    "and obtain the following boxplots:"
   ]
  },
  {
   "cell_type": "code",
   "execution_count": null,
   "metadata": {},
   "outputs": [],
   "source": [
    "boxplot(mspe.la, mspe.ri, mspe.st, mspe.f, names=c('LASSO','Ridge', 'Stepwise', 'Full'), col=c('steelblue', 'gray80', 'tomato', 'springgreen'), cex.axis=1, cex.lab=1, cex.main=2)\n",
    "mtext(expression(hat(MSPE)), side=2, line=2.5)"
   ]
  },
  {
   "cell_type": "markdown",
   "metadata": {},
   "source": [
    "We see that there is a marginal advantage of LASSO, but it is rather minor, and the three methods we have seen so far improve by similar margins on the predictions obtained by using a full linear regression model.\n",
    "\n",
    "Less desirable properties of LASSO\n",
    "----------------------------------\n",
    "\n",
    "As important as the LASSO estimator has been, its properties may sometimes not be fully satisfactory. In particular:\n",
    "\n",
    "-   The LASSO selects the right variables only under very restrictive conditions (in other words, it is generally not \"variable selection\"-consistent).\n",
    "-   The LASSO sampling distribution is not the same as the one we would obtain with the standard least squares estimator if we knew which features to include and which ones to exclude from the model (in orther words, the LASSO does not have an \"oracle\" property).\n",
    "-   When groups of correlated explanatory variables are present the LASSO tends to include only one variable (randomly) from the group, relegate the others to the end of the sequence.\n",
    "\n",
    "For precise statements and theoretical results regarding the three points above, see\n",
    "\n",
    "> Zou, H. (2006). The Adaptive Lasso and Its Oracle Properties. *Journal of the American Statistical Association*, **101**(476), 1418-1429. DOI: [10.1198/016214506000000735](http://doi.org/10.1198/016214506000000735)\n",
    "\n",
    "and\n",
    "\n",
    "> Zou, H. and Hastie, T. (2005). Regularization and variable selection via the elastic net. *Journal of the Royal Statistical Society: Series B (Statistical Methodology)*, **67**(2), 301-320. DOI: [10.1111/j.1467-9868.2005.00503.x](http://dx.doi.org/10.1111/j.1467-9868.2005.00503.x)\n",
    "\n",
    "Elastic net\n",
    "-----------\n",
    "\n",
    "Elastic Net estimators were introduced to find an informative compromise between LASSO and Ridge Regression.\n",
    "\n",
    "Note that `cv.glmnet` only considers fits with variying values of one of the penalty constants, while the other one (`alpha`) is kept fixed. To compare different Elastic Net fits we run `cv.glmnet` with 4 values of `alpha`: 0.05, 0.1, 0.5 and 0.75."
   ]
  },
  {
   "cell_type": "code",
   "execution_count": null,
   "metadata": {},
   "outputs": [],
   "source": [
    "# EN\n",
    "set.seed(23)\n",
    "air.en.75 <- cv.glmnet(x=xm, y=y, lambda=lambdas, nfolds=5, alpha=0.75, \n",
    "                 family='gaussian', intercept=TRUE)\n",
    "set.seed(23)\n",
    "air.en.05 <- cv.glmnet(x=xm, y=y, lambda=lambdas, nfolds=5, alpha=0.05, \n",
    "                 family='gaussian', intercept=TRUE)\n",
    "set.seed(23)\n",
    "air.en.1 <- cv.glmnet(x=xm, y=y, lambda=lambdas, nfolds=5, alpha=0.1, \n",
    "                 family='gaussian', intercept=TRUE)\n",
    "set.seed(23)\n",
    "air.en.5 <- cv.glmnet(x=xm, y=y, lambda=lambdas, nfolds=5, alpha=0.5, \n",
    "                 family='gaussian', intercept=TRUE)\n",
    "plot(air.en.05)"
   ]
  },
  {
   "cell_type": "code",
   "execution_count": null,
   "metadata": {},
   "outputs": [],
   "source": [
    "plot(air.en.5)"
   ]
  },
  {
   "cell_type": "code",
   "execution_count": null,
   "metadata": {},
   "outputs": [],
   "source": [
    "plot(air.en.75)"
   ]
  },
  {
   "cell_type": "markdown",
   "metadata": {},
   "source": [
    "### Run EN on airpollution data, compare fits\n",
    "\n",
    "We now compare the estimates of the regression coefficients\n",
    "obtained with the different methods discussed so far to \n",
    "alleviate potential problems caused by correlated covariates. "
   ]
  },
  {
   "cell_type": "code",
   "execution_count": null,
   "metadata": {},
   "outputs": [],
   "source": [
    "a <- cbind(round(coef(air.l2, s='lambda.min'), 3),\n",
    "round(coef(air.l1, s='lambda.min'), 3), \n",
    "round(coef(air.en.05, s='lambda.min'), 3),\n",
    "round(coef(air.en.1, s='lambda.min'), 3),\n",
    "round(coef(air.en.5, s='lambda.min'), 3), \n",
    "round(coef(air.en.75, s='lambda.min'), 3))\n",
    "colnames(a) <- c('Ridge', 'LASSO', 'EN-05', 'EN-10', 'EN-50', 'EN-75')\n",
    "a"
   ]
  },
  {
   "cell_type": "markdown",
   "metadata": {},
   "source": [
    "The same comment made above regarding the need of a \n",
    "more stable choice of \"optimal\" fits (for each of these\n",
    "methods) applies here. Again, here we limit ourselves to one\n",
    "run of 5-fold CV purely based on simplifying the\n",
    "presentation. \n",
    "\n",
    "\n",
    "### Compare MSPE's of Full, LASSO, Ridge, EN and stepwise"
   ]
  },
  {
   "cell_type": "code",
   "execution_count": null,
   "metadata": {},
   "outputs": [],
   "source": [
    "ii <- (1:n) %% k + 1\n",
    "set.seed(123)\n",
    "N <- 50\n",
    "mspe.en <- rep(0, N)\n",
    "for(i in 1:N) {\n",
    "  ii <- sample(ii)\n",
    "  pr.en <- rep(0, n)\n",
    "  for(j in 1:k) {\n",
    "    tmp.en <- cv.glmnet(x=xm[ii != j, ], y=y[ii != j], lambda=lambdas, \n",
    "                        nfolds=5, alpha=0.75, family='gaussian') \n",
    "    pr.en[ ii == j ] <- predict(tmp.en, s='lambda.min', newx=xm[ii==j,])\n",
    "  }\n",
    "  mspe.en[i] <- mean( (airp$MORT - pr.en)^2 )\n",
    "}\n",
    "boxplot(mspe.en, mspe.la, mspe.ri, mspe.st, mspe.f, \n",
    "        names=c('EN', 'LASSO','Ridge', 'Stepwise', 'Full'), \n",
    "        col=c('hotpink', 'steelblue', 'gray80', 'tomato', 'springgreen'), \n",
    "        cex.axis=1, cex.lab=1, cex.main=2)\n",
    "mtext(expression(hat(MSPE)), side=2, line=2.5)"
   ]
  },
  {
   "cell_type": "markdown",
   "metadata": {},
   "source": [
    "We see that in this example Elastic Net with `alpha = 0.75` (which is not far from the LASSO) provides slightly better estimated MSPEs."
   ]
  }
 ],
 "metadata": {
  "kernelspec": {
   "display_name": "R",
   "language": "R",
   "name": "ir"
  },
  "language_info": {
   "codemirror_mode": "r",
   "file_extension": ".r",
   "mimetype": "text/x-r-source",
   "name": "R",
   "pygments_lexer": "r",
   "version": "3.5.0"
  }
 },
 "nbformat": 4,
 "nbformat_minor": 2
}
