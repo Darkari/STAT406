{
 "cells": [
  {
   "cell_type": "markdown",
   "metadata": {},
   "source": [
    "STAT406 - Lecture 21 notes\n",
    "================\n",
    "Matias Salibian-Barrera\n",
    "2018-11-27\n",
    "\n",
    "LICENSE\n",
    "-------\n",
    "\n",
    "These notes are released under the \"Creative Commons Attribution-ShareAlike 4.0 International\" license. See the **human-readable version** [here](https://creativecommons.org/licenses/by-sa/4.0/) and the **real thing** [here](https://creativecommons.org/licenses/by-sa/4.0/legalcode).\n",
    "\n",
    "Lecture slides\n",
    "--------------\n",
    "\n",
    "Lecture slides are [here](STAT406-18-lecture-21.pdf).\n",
    "\n",
    "Hierarchical clustering.\n",
    "------------------------\n",
    "\n",
    "Hierarchical clustering refers to a class of algorithms that work in a different way from the ones we have seen so far. Both k-means and model-based clustering try to find a pre-specified number of clusters *simultaneously*. Hierarchical methods are *agglomerative*--they start with *n* clusters (one singleton cluster for each observation in the data set), and form a hierarchical sequence of clusters of sizes *n-1*, *n-2*, ..., *3*, *2*, and a final \"cluster\" composed of all the observations. The user then needs to decide where to *cut* the sequence, in other words, how many clusters to identify. Algorithms in this class are also called agglomerative, for obvious reasons.\n",
    "\n",
    "The general algorithm can be described as follows:\n",
    "\n",
    "1.  Set *K = n* (the number of observations in the data), and Start with *n* clusters;\n",
    "2.  While *K &gt; 1*:\n",
    "    1.  Merge 2 clusters to form *K-1* clusters;\n",
    "    2.  Set `K = K - 1` (i.e. decrease *K* by one).\n",
    "\n",
    "The different versions (*flavours*) of this method are obtained by varying the criteria to decide which 2 clusters to merge at each run of step 2(i) above, which depends on how we measure the distance (or dissimilarity) between clusters.\n",
    "\n",
    "There are a few different tools to decide how many clusters may be present in the data following a hierarchical clustering algorithm. The most commonly used is a graphical representation of the sequence of clusters, called a *dendogram*.\n",
    "\n",
    "Please refer to your class notes for details on the different merging criteria (i.e. deciding which clusters to combine at each step) and the interpretation of a dendogram. Below we will illustrate the use of these algorithms on a few examples.\n",
    "\n",
    "#### Breweries example\n",
    "\n",
    "Beer drinkers were asked to rate 9 breweries on 26 attributes. The attributes were, e.g., Brewery has rich tradition; or Brewery makes very good Pils beer. Relative to each attribute, the informant had to assign each brewery a score on a 6-point scale ranging from 1=not true at all to 6=very true. We read the data, and use the function `dist` to compute the pairwise *L\\_1* distances between the 9 breweries. Note that the data are available columnwise (*p* × *x*) so we first transpose it before we compute the distances. We also change the misleading column names assigned by `read.table`, which are not features but rather observation numbers:"
   ]
  },
  {
   "cell_type": "code",
   "execution_count": null,
   "metadata": {},
   "outputs": [],
   "source": [
    "x <- read.table(\"../Lecture19/breweries.dat\", header = FALSE)\n",
    "colnames(x) <- paste0(\"Brew-\", 1:ncol(x))\n",
    "x <- t(x)\n",
    "d <- dist(x, method = \"manhattan\")"
   ]
  },
  {
   "cell_type": "markdown",
   "metadata": {},
   "source": [
    "One implementation of hierarchical clustering methods in `R` is in the function `hclust` in package `cluster`. We first use Ward's information criterion (corrected to appropriately use squared distances). The `plot` method for objects of class `hclust` produces the associated dendogram. The function `rect.hclust` computes the height at which one shuld *cut* the dendogram to obtain a desired number *k* of clusters. Below we show the result for *K = 3* clusters:"
   ]
  },
  {
   "cell_type": "code",
   "execution_count": null,
   "metadata": {},
   "outputs": [],
   "source": [
    "# hierarchical\n",
    "library(cluster)\n",
    "# show the dendogram\n",
    "plot(cl <- hclust(d, method = \"ward.D2\"), main = \"\", xlab = \"\", sub = \"\", hang = -1)\n",
    "# identify 3 clusters\n",
    "rect.hclust(cl, k = 3, border = \"red\")"
   ]
  },
  {
   "cell_type": "markdown",
   "metadata": {},
   "source": [
    "Now we repeat the analysis but using Euclidean distances and *single linkage*, and show *K = 3* clusters:"
   ]
  },
  {
   "cell_type": "code",
   "execution_count": null,
   "metadata": {},
   "outputs": [],
   "source": [
    "br.dis <- dist(x)  # L2\n",
    "br.hc <- hclust(br.dis, method = \"single\")\n",
    "plot(br.hc)\n",
    "br.hc.3 <- rect.hclust(br.hc, k = 3)"
   ]
  },
  {
   "cell_type": "markdown",
   "metadata": {},
   "source": [
    "Note how these 3 clusters are somewhat different from the ones found before. However, the *(V1, V4, V7)* cluster is present in both partitions, and also the triplet *(V3, V6, V8)* stays together as well. It is interesting to compare these clusters with those found by K-means (see previous notes), in particular, these dendograms resemble the information on the silhouette plots to some extent.\n",
    "\n",
    "#### Languages example\n",
    "\n",
    "The details of this example were discussed in class. Here we present the results of three commonly used merging criteria: *single* linkage, *complete* linkage, *average* linkage, and *Ward's* criterion. As usual, we start by reading the data, which in this case are the specific dissimilarities between languages discussed in class, and we arrange them in a matrix that can be used by `hclust`:"
   ]
  },
  {
   "cell_type": "code",
   "execution_count": null,
   "metadata": {},
   "outputs": [],
   "source": [
    "dd <- read.table(\"languages.dat\", header = FALSE)\n",
    "names(dd) <- c(\"E\", \"N\", \"Da\", \"Du\", \"G\", \"Fr\", \"S\", \"I\", \"P\", \"H\", \"Fi\")\n",
    "dd <- (dd + t(dd)/2)\n",
    "d <- as.dist(dd)"
   ]
  },
  {
   "cell_type": "markdown",
   "metadata": {},
   "source": [
    "Now we compute a hierarchical clustering sequence using **single linkage**, plot the corresponding dendogram and identify 4 clusters:"
   ]
  },
  {
   "cell_type": "code",
   "execution_count": null,
   "metadata": {},
   "outputs": [],
   "source": [
    "plot(cl <- hclust(d, method = \"single\"), main = \"\", xlab = \"\", sub = \"\", hang = -1)\n",
    "rect.hclust(cl, k = 4, border = \"red\")"
   ]
  },
  {
   "cell_type": "markdown",
   "metadata": {},
   "source": [
    "Compare the above with the results obtained with **complete linkage**:"
   ]
  },
  {
   "cell_type": "code",
   "execution_count": null,
   "metadata": {},
   "outputs": [],
   "source": [
    "plot(cl <- hclust(d, method = \"complete\"), main = \"\", xlab = \"\", sub = \"\", hang = -1)\n",
    "rect.hclust(cl, k = 4, border = \"red\")"
   ]
  },
  {
   "cell_type": "markdown",
   "metadata": {},
   "source": [
    "With **average linkage** we obtain:"
   ]
  },
  {
   "cell_type": "code",
   "execution_count": null,
   "metadata": {},
   "outputs": [],
   "source": [
    "plot(cl <- hclust(d, method = \"average\"), main = \"\", xlab = \"\", sub = \"\", hang = -1)\n",
    "rect.hclust(cl, k = 4, border = \"red\")"
   ]
  },
  {
   "cell_type": "markdown",
   "metadata": {},
   "source": [
    "And finally, using **Ward's criterion** results in the following dendogram and 4 clusters:"
   ]
  },
  {
   "cell_type": "code",
   "execution_count": null,
   "metadata": {},
   "outputs": [],
   "source": [
    "plot(cl <- hclust(d, method = \"ward.D2\"), main = \"\", xlab = \"\", sub = \"\", hang = -1)\n",
    "rect.hclust(cl, k = 4, border = \"red\")"
   ]
  },
  {
   "cell_type": "markdown",
   "metadata": {},
   "source": [
    "#### Cancer example\n",
    "\n",
    "Here we revisit the Cancer example discussed before. We use Euclidean distances and Ward's information criterion. Below we show the clusters identified when we stop the algorithm at *K = 8*, which based on the dendogram seems to be a reasonable choice:"
   ]
  },
  {
   "cell_type": "code",
   "execution_count": null,
   "metadata": {},
   "outputs": [],
   "source": [
    "data(nci, package = \"ElemStatLearn\")\n",
    "nci.dis <- dist(t(nci), method = \"euclidean\")\n",
    "plot(nci.hc.w <- hclust(nci.dis, method = \"ward.D2\"), main = \"\", xlab = \"\", \n",
    "    sub = \"\", hang = -1, labels = rownames(nci))\n",
    "rect.hclust(nci.hc.w, k = 8, border = \"red\")"
   ]
  },
  {
   "cell_type": "markdown",
   "metadata": {},
   "source": [
    "For completeness, below we show the results obtained with the other linkage criteria, including Ward's:"
   ]
  },
  {
   "cell_type": "code",
   "execution_count": null,
   "metadata": {},
   "outputs": [],
   "source": [
    "nci.hc.s <- hclust(nci.dis, method = \"single\")\n",
    "nci.hc.c <- hclust(nci.dis, method = \"complete\")\n",
    "nci.hc.a <- hclust(nci.dis, method = \"average\")\n",
    "\n",
    "# plot them\n",
    "plot(nci.hc.s, labels = colnames(nci), cex = 0.5)"
   ]
  },
  {
   "cell_type": "code",
   "execution_count": null,
   "metadata": {},
   "outputs": [],
   "source": [
    "plot(nci.hc.c, labels = colnames(nci), cex = 0.5)"
   ]
  },
  {
   "cell_type": "code",
   "execution_count": null,
   "metadata": {},
   "outputs": [],
   "source": [
    "plot(nci.hc.a, labels = colnames(nci), cex = 0.5)"
   ]
  },
  {
   "cell_type": "markdown",
   "metadata": {},
   "source": [
    "Note that with these 3 other criteria no clear structure seems apparent in the data.\n",
    "\n",
    "#### Nations example\n",
    "\n",
    "This is a smaller Political Science dataset. Twelve countries were assessed on their perceived \"likeness\" by Political Science students. Note that (as in the Languages example above) in this example we do not have raw observations (features), we only have access to the already determined parwise dissimilarities. Below we show the results of using hierarchical clustering with complete and average linkage merging criteria, which produce identical clusters. You are encouraged to investigate what can be found with other merging criteria."
   ]
  },
  {
   "cell_type": "code",
   "execution_count": null,
   "metadata": {},
   "outputs": [],
   "source": [
    "# read the pairwise dissimilarities\n",
    "a2 <- read.table(\"nations2.dat\", header = FALSE)\n",
    "\n",
    "# since only the lower triangular matrix is available we need to copy it on\n",
    "# the upper half\n",
    "a2 <- a2 + t(a2)\n",
    "\n",
    "# create a vector of country names, to be used later\n",
    "nams2 <- c(\"BEL\", \"BRA\", \"CHI\", \"CUB\", \"EGY\", \"FRA\", \"IND\", \"ISR\", \"USA\", \"USS\", \n",
    "    \"YUG\", \"ZAI\")\n",
    "\n",
    "# compute hierarchical clustering using complete linkage\n",
    "na.hc <- hclust(as.dist(a2), method = \"complete\")\n",
    "plot(na.hc, labels = nams2)"
   ]
  },
  {
   "cell_type": "code",
   "execution_count": null,
   "metadata": {},
   "outputs": [],
   "source": [
    "# compute hierarchical clustering using average linkage\n",
    "na.hc <- hclust(as.dist(a2), method = \"average\")\n",
    "plot(na.hc, labels = nams2)"
   ]
  },
  {
   "cell_type": "markdown",
   "metadata": {},
   "source": [
    "#### UN Votes\n",
    "\n",
    "We revisit here the UN votes example (see Lecture 19). Using Euclidean distances and Ward's criterion we obtain the following 3 clusters:"
   ]
  },
  {
   "cell_type": "code",
   "execution_count": null,
   "metadata": {},
   "outputs": [],
   "source": [
    "X <- read.table(file = \"../Lecture19/unvotes.csv\", sep = \",\", row.names = 1, \n",
    "    header = TRUE)\n",
    "un.dis <- dist(t(X), method = \"euclidean\")\n",
    "un.hc <- hclust(un.dis, method = \"ward.D2\")\n",
    "plot(un.hc, cex = 0.5)\n",
    "un.hc.3 <- rect.hclust(un.hc, k = 3)"
   ]
  },
  {
   "cell_type": "code",
   "execution_count": null,
   "metadata": {},
   "outputs": [],
   "source": [
    "lapply(un.hc.3, names)"
   ]
  },
  {
   "cell_type": "markdown",
   "metadata": {},
   "source": [
    "If we repeat the same exercise but using *L*<sub>1</sub> distances we obtain different clusters."
   ]
  },
  {
   "cell_type": "code",
   "execution_count": null,
   "metadata": {},
   "outputs": [],
   "source": [
    "un.dis.l1 <- dist(t(X), method = \"manhattan\")\n",
    "un.hc.l1 <- hclust(un.dis.l1, method = \"ward.D2\")\n",
    "plot(un.hc.l1, cex = 0.5)\n",
    "un.hc.l1.3 <- rect.hclust(un.hc.l1, k = 3)"
   ]
  },
  {
   "cell_type": "code",
   "execution_count": null,
   "metadata": {},
   "outputs": [],
   "source": [
    "lapply(un.hc.l1.3, names)"
   ]
  },
  {
   "cell_type": "markdown",
   "metadata": {},
   "source": [
    "It is easier to compare these 2 sets of clusters if we show them on a map. We first find the cluster labels corresponding to 3 clusters using Euclidean and *L*<sub>1</sub> distances:"
   ]
  },
  {
   "cell_type": "code",
   "execution_count": null,
   "metadata": {},
   "outputs": [],
   "source": [
    "labs <- cutree(un.hc, k = 3)\n",
    "labs.l1 <- cutree(un.hc.l1, k = 3)"
   ]
  },
  {
   "cell_type": "markdown",
   "metadata": {},
   "source": [
    "We can now use these labels to color a map, as we did previously. For the Euclidean distances we obtain:"
   ]
  },
  {
   "cell_type": "code",
   "execution_count": null,
   "metadata": {},
   "outputs": [],
   "source": [
    "library(rworldmap)\n",
    "library(countrycode)\n",
    "these <- countrycode(colnames(X), \"country.name\", \"iso3c\")\n",
    "malDF <- data.frame(country = these, cluster = labs)\n",
    "malMap <- joinCountryData2Map(malDF, joinCode = \"ISO3\", nameJoinColumn = \"country\")\n",
    "par(mai = c(0, 0, 0, 0), xaxs = \"i\", yaxs = \"i\")\n",
    "mapCountryData(malMap, nameColumnToPlot = \"cluster\", catMethod = \"categorical\", \n",
    "    missingCountryCol = \"white\", addLegend = FALSE, mapTitle = \"\", colourPalette = c(\"darkgreen\", \n",
    "        \"hotpink\", \"tomato\", \"blueviolet\", \"yellow\"), oceanCol = \"dodgerblue\")"
   ]
  }
 ],
 "metadata": {
  "kernelspec": {
   "display_name": "R",
   "language": "R",
   "name": "ir"
  },
  "language_info": {
   "codemirror_mode": "r",
   "file_extension": ".r",
   "mimetype": "text/x-r-source",
   "name": "R",
   "pygments_lexer": "r",
   "version": "3.4.4"
  }
 },
 "nbformat": 4,
 "nbformat_minor": 2
}
