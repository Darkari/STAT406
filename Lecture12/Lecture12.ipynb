{
 "cells": [
  {
   "cell_type": "markdown",
   "metadata": {},
   "source": [
    "STAT406 - Lecture 12 notes\n",
    "================\n",
    "Matias Salibian-Barrera\n",
    "2018-10-10\n",
    "\n",
    "#### LICENSE\n",
    "\n",
    "These notes are released under the \"Creative Commons Attribution-ShareAlike 4.0 International\" license. See the **human-readable version** [here](https://creativecommons.org/licenses/by-sa/4.0/) and the **real thing** [here](https://creativecommons.org/licenses/by-sa/4.0/legalcode).\n",
    "\n",
    "Lecture slides\n",
    "--------------\n",
    "\n",
    "Preliminary lecture slides are [here](STAT406-18-lecture-12-preliminary.pdf).\n",
    "\n",
    "Bagging\n",
    "-------\n",
    "\n",
    "One strategy to obtain more stable predictors is called **Bootstrap AGGregatING** (bagging). It can be applied to many predictors (not only trees), and it generally results in larger improvements in prediction quality when it is used with predictors that are flexible (low bias), but highly variable.\n",
    "\n",
    "The justification and motivation were discussed in class. Intuitively we are averaging the predictions obtained from an estimate of the \"average prediction\" we would have computed had we had access to several (many?) independent training sets (samples).\n",
    "\n",
    "There are several (many?) `R` packages implementing bagging for different predictors, with varying degrees of flexibility (the implementations) and user-friendliness. However, for pedagogical and illustrative purposes, in these notes I will *bagg* by hand.\n",
    "\n",
    "### Bagging by hand\n",
    "\n",
    "Again, to simplify the discussion and presentation, in order to evaluate prediction quality I will split the data (`Boston`) into a training and a test set. We do this now:"
   ]
  },
  {
   "cell_type": "code",
   "execution_count": null,
   "metadata": {},
   "outputs": [],
   "source": [
    "library(rpart)\n",
    "data(Boston, package='MASS')\n",
    "set.seed(123)\n",
    "n <- nrow(Boston)\n",
    "ii <- sample(n, floor(n/4))\n",
    "dat.te <- Boston[ ii, ]\n",
    "dat.tr <- Boston[ -ii, ]"
   ]
  },
  {
   "cell_type": "markdown",
   "metadata": {},
   "source": [
    "I will now train *N* = 5 trees and average their predictions. Note that, in order to illustrate the process more clearly, I will compute and store the *N* × *n*<sub>*e*</sub> predictions, where *n*<sub>*e*</sub> denotes the number of observations in the test set. This is not the best (most efficient) way of implementing *bagging*, but the main purpose here is to understand **what** we are doing. Also note that an alternative (better in terms of reusability of the ensemble, but maybe still not the most efficient option) would be to store the *N* trees directly. This would also allow for more elegant and easy to read code. Once again, this approach will be sacrificed in the altar of clarity of presentation and pedagogy (but I do illustrate it below!)\n",
    "\n",
    "First create an array where we will store all the predictions:"
   ]
  },
  {
   "cell_type": "code",
   "execution_count": null,
   "metadata": {},
   "outputs": [],
   "source": [
    "N <- 5\n",
    "myps <- array(NA, dim=c(nrow(dat.te), N))\n",
    "con <- rpart.control(minsplit=3, cp=1e-3, xval=1)"
   ]
  },
  {
   "cell_type": "markdown",
   "metadata": {},
   "source": [
    "The last object (`con`) contains my options to train large (potentially overfitting) trees."
   ]
  },
  {
   "cell_type": "code",
   "execution_count": null,
   "metadata": {},
   "outputs": [],
   "source": [
    "n.tr <- nrow(dat.tr)\n",
    "set.seed(123)\n",
    "for(j in 1:N) {\n",
    "  ii <- sample(n.tr, replace=TRUE)\n",
    "  tmp <- rpart(medv ~ ., data=dat.tr[ii, ], method='anova', control=con)\n",
    "  myps[,j] <- predict(tmp, newdata=dat.te, type='vector')\n",
    "}\n",
    "pr.bagg <- rowMeans(myps)\n",
    "with(dat.te, mean( (medv - pr.bagg)^2 ) )"
   ]
  },
  {
   "cell_type": "markdown",
   "metadata": {},
   "source": [
    "And compare with predictions from the pruned tree, and the ones from other predictors discussed in the previous note:"
   ]
  },
  {
   "cell_type": "code",
   "execution_count": null,
   "metadata": {},
   "outputs": [],
   "source": [
    "myc <- rpart.control(minsplit=3, cp=1e-8, xval=10)\n",
    "set.seed(123)\n",
    "bos.to <- rpart(medv ~ ., data=dat.tr, method='anova',\n",
    "                control=myc)\n",
    "b <- bos.to$cptable[which.min(bos.to$cptable[,\"xerror\"]),\"CP\"]\n",
    "bos.t3 <- prune(bos.to, cp=b)\n",
    "pr.t3 <- predict(bos.t3, newdata=dat.te, type='vector')\n",
    "with(dat.te, mean((medv - pr.t3)^2) )"
   ]
  },
  {
   "cell_type": "markdown",
   "metadata": {},
   "source": [
    "What if we *bagg* *N* = 10 trees?"
   ]
  },
  {
   "cell_type": "code",
   "execution_count": null,
   "metadata": {},
   "outputs": [],
   "source": [
    "N <- 10\n",
    "myps <- array(NA, dim=c(nrow(dat.te), N))\n",
    "n.tr <- nrow(dat.tr)\n",
    "set.seed(123)\n",
    "for(j in 1:N) {\n",
    "  ii <- sample(n.tr, replace=TRUE)\n",
    "  tmp <- rpart(medv ~ ., data=dat.tr[ii, ], method='anova', control=con)\n",
    "  myps[,j] <- predict(tmp, newdata=dat.te, type='vector')\n",
    "}\n",
    "pr.bagg <- rowMeans(myps)\n",
    "with(dat.te, mean( (medv - pr.bagg)^2 ) )"
   ]
  },
  {
   "cell_type": "markdown",
   "metadata": {},
   "source": [
    "or *N* = 100 trees?"
   ]
  },
  {
   "cell_type": "code",
   "execution_count": null,
   "metadata": {},
   "outputs": [],
   "source": [
    "N <- 100\n",
    "myps <- array(NA, dim=c(nrow(dat.te), N))\n",
    "n.tr <- nrow(dat.tr)\n",
    "set.seed(123)\n",
    "for(j in 1:N) {\n",
    "  ii <- sample(n.tr, replace=TRUE)\n",
    "  tmp <- rpart(medv ~ ., data=dat.tr[ii, ], method='anova', control=con)\n",
    "  myps[,j] <- predict(tmp, newdata=dat.te, type='vector')\n",
    "}\n",
    "pr.bagg <- rowMeans(myps)\n",
    "with(dat.te, mean( (medv - pr.bagg)^2 ) )"
   ]
  },
  {
   "cell_type": "markdown",
   "metadata": {},
   "source": [
    "or *N* = 1000 trees?"
   ]
  },
  {
   "cell_type": "code",
   "execution_count": null,
   "metadata": {},
   "outputs": [],
   "source": [
    "N <- 1000\n",
    "myps <- array(NA, dim=c(nrow(dat.te), N))\n",
    "n.tr <- nrow(dat.tr)\n",
    "set.seed(123)\n",
    "for(j in 1:N) {\n",
    "  ii <- sample(n.tr, replace=TRUE)\n",
    "  tmp <- rpart(medv ~ ., data=dat.tr[ii, ], method='anova', control=con)\n",
    "  myps[,j] <- predict(tmp, newdata=dat.te, type='vector')\n",
    "}\n",
    "pr.bagg <- rowMeans(myps)\n",
    "with(dat.te, mean( (medv - pr.bagg)^2 ) )"
   ]
  },
  {
   "cell_type": "markdown",
   "metadata": {},
   "source": [
    "Note that, at least for this test set, increasing the number of bagged trees seems to improve the MSPE. However, the gain appears to decrease, so it may not be worth the computational effort to use a larger *bag* / ensemble. Furthermore, one may also want to investigate whether this is an artifact of this specific training / test partition, or if similar patterns of MSPE are observed for other random training / test splits. Below we try a different test/training split and repeat the bagging experiment above:"
   ]
  },
  {
   "cell_type": "markdown",
   "metadata": {},
   "source": [
    "The pattern is in fact similar to the one we observed before: increasing the size of the ensemble *N* helps, but the improvement becomes smaller as *N* increases. A very good exercise is to explore what happens with the MSPE of the bagged ensemble when the MSPE is estimated using cross-validation (instead of using a test set). I leave this as an exercise for the reader.\n",
    "\n",
    "#### More efficient, useful and elegant implementation\n",
    "\n",
    "I will now illustrate a possibly more efficient way to implement bagging, namely storing the *N* trees (rather than their predictions on a given data set). In this way one can re-use the ensemble (on any future data set) without having to re-train the elements of the *bag*. Since the idea is the same, I will just do it for ensemble of *N* = 100 trees. To simplify the comparison between this implementation of bagging and the one used above, we first re-create the original training / test split"
   ]
  },
  {
   "cell_type": "code",
   "execution_count": null,
   "metadata": {},
   "outputs": [],
   "source": [
    "set.seed(123)\n",
    "n <- nrow(Boston)\n",
    "ii <- sample(n, floor(n/4))\n",
    "dat.te <- Boston[ ii, ]\n",
    "dat.tr <- Boston[ -ii, ]"
   ]
  },
  {
   "cell_type": "markdown",
   "metadata": {},
   "source": [
    "Now, let's create a `list` of 100 (empty) elements, each element of this list will store a regression tree:"
   ]
  },
  {
   "cell_type": "code",
   "execution_count": null,
   "metadata": {},
   "outputs": [],
   "source": [
    "N <- 100\n",
    "mybag <- vector('list', N)"
   ]
  },
  {
   "cell_type": "markdown",
   "metadata": {},
   "source": [
    "Now, we train the *N* trees as before, but store them in the `list` (without computing any predictions):"
   ]
  },
  {
   "cell_type": "code",
   "execution_count": null,
   "metadata": {},
   "outputs": [],
   "source": [
    "set.seed(123)\n",
    "for(j in 1:N) {\n",
    "  ii <- sample(n.tr, replace=TRUE)\n",
    "  mybag[[j]] <- rpart(medv ~ ., data=dat.tr[ii, ], method='anova', control=con)\n",
    "}"
   ]
  },
  {
   "cell_type": "markdown",
   "metadata": {},
   "source": [
    "Given a new data set, in order to obtain the corresponding predictions for each tree in the ensemble, one could either:\n",
    "\n",
    "-   loop over the *N* trees, averaging the corresponding *N* vectors of predictions; or\n",
    "-   use `sapply` (check the help page if you are not familiar with the `apply` functions in `R`).\n",
    "\n",
    "The later option results in code that is much more elegant, efficient (allowing for future uses of the ensemble), and compact. Of course both give exactly the same results. Below we illustrate both strategies. If we use the **first approach** we obtain the following estimated MSPE using the test set:"
   ]
  },
  {
   "cell_type": "code",
   "execution_count": null,
   "metadata": {},
   "outputs": [],
   "source": [
    "pr.bagg2 <- rep(0, nrow(dat.te))\n",
    "for(j in 1:N)\n",
    "  pr.bagg2 <- pr.bagg2 + predict(mybag[[j]], newdata=dat.te) / N\n",
    "with(dat.te, mean( (medv - pr.bagg2)^2 ) )"
   ]
  },
  {
   "cell_type": "markdown",
   "metadata": {},
   "source": [
    "(compare it with the results we obtained before). Using the **second approach**:"
   ]
  },
  {
   "cell_type": "code",
   "execution_count": null,
   "metadata": {},
   "outputs": [],
   "source": [
    "pr.bagg3 <- rowMeans(sapply(mybag, predict, newdata=dat.te))\n",
    "with(dat.te, mean( (medv - pr.bagg3)^2 ) )"
   ]
  },
  {
   "cell_type": "markdown",
   "metadata": {},
   "source": [
    "Both results are of course identical.\n",
    "\n",
    "### Bagging a regression spline\n",
    "\n",
    "Bagging does not provide much of an advantage when applied to linear predictors (can you explain why?) Nevertheless, let us try it on the `lidar` data, which, as we did before, we randomly split into a training and test set:"
   ]
  },
  {
   "cell_type": "code",
   "execution_count": null,
   "metadata": {},
   "outputs": [],
   "source": [
    "data(lidar, package='SemiPar')\n",
    "set.seed(123)\n",
    "n <- nrow(lidar)\n",
    "ii <- sample(n, floor(n/5))\n",
    "lid.te <- lidar[ ii, ]\n",
    "lid.tr <- lidar[ -ii, ]"
   ]
  },
  {
   "cell_type": "markdown",
   "metadata": {},
   "source": [
    "Now fit a cubic spline, and estimate the MSPE using the test set:"
   ]
  },
  {
   "cell_type": "code",
   "execution_count": null,
   "metadata": {},
   "outputs": [],
   "source": [
    "library(splines)\n",
    "a <- lm(logratio ~ bs(x=range, df=10, degree=3), data=lid.tr) \n",
    "oo <- order(lid.tr$range)\n",
    "pr.of <- predict(a, newdata=lid.te)\n",
    "mean( (lid.te$logratio - pr.of)^2 )"
   ]
  },
  {
   "cell_type": "markdown",
   "metadata": {},
   "source": [
    "We build an ensemble of 10 fits and estimate the corresponding MSPE using the test set:"
   ]
  },
  {
   "cell_type": "code",
   "execution_count": null,
   "metadata": {},
   "outputs": [],
   "source": [
    "N <- 10 # 5 500 1500\n",
    "myps <- matrix(NA, nrow(lid.te), N)\n",
    "set.seed(123)\n",
    "n.tr <- nrow(lid.tr)\n",
    "for(i in 1:N) {\n",
    "  ii <- sample(n.tr, replace=TRUE)\n",
    "  a.b <- lm(logratio ~ bs(x=range, df=10, degree=3), data=lid.tr[ii,]) \n",
    "  myps[,i] <- predict(a.b, newdata=lid.te)\n",
    "}\n",
    "pr.ba <- rowMeans(myps)# , na.rm=TRUE)\n",
    "mean( (lid.te$logratio - pr.ba)^2 )"
   ]
  }
 ],
 "metadata": {
  "kernelspec": {
   "display_name": "R",
   "language": "R",
   "name": "ir"
  },
  "language_info": {
   "codemirror_mode": "r",
   "file_extension": ".r",
   "mimetype": "text/x-r-source",
   "name": "R",
   "pygments_lexer": "r",
   "version": "3.5.0"
  }
 },
 "nbformat": 4,
 "nbformat_minor": 2
}
