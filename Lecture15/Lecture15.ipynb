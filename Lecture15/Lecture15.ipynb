{
 "cells": [
  {
   "cell_type": "markdown",
   "metadata": {},
   "source": [
    "STAT406 - Lecture 15 notes\n",
    "================\n",
    "Matias Salibian-Barrera\n",
    "2018-10-22\n",
    "\n",
    "LICENSE\n",
    "-------\n",
    "\n",
    "These notes are released under the \"Creative Commons Attribution-ShareAlike 4.0 International\" license. See the **human-readable version** [here](https://creativecommons.org/licenses/by-sa/4.0/) and the **real thing** [here](https://creativecommons.org/licenses/by-sa/4.0/legalcode).\n",
    "\n",
    "Lecture slides\n",
    "--------------\n",
    "\n",
    "Preliminary lecture slides will be here.\n",
    "\n",
    "#### Instability of trees\n",
    "\n",
    "Just like we discussed in the regression case, classification trees can be highly unstable (meaning: small changes in the training set may result in large changes in the corresponding tree).\n",
    "\n",
    "We illustrate the problem on the toy example we used in class:"
   ]
  },
  {
   "cell_type": "code",
   "execution_count": null,
   "metadata": {},
   "outputs": [],
   "source": [
    "mm <- read.table('../Lecture14/T11-6.DAT', header=FALSE)\n",
    "mm$V3 <- as.factor(mm$V3)\n",
    "# re-scale one feature, for better plots\n",
    "mm[,2] <- mm[,2] / 150"
   ]
  },
  {
   "cell_type": "markdown",
   "metadata": {},
   "source": [
    "We now slightly modify the data and compare the resulting trees and their predictions:"
   ]
  },
  {
   "cell_type": "code",
   "execution_count": null,
   "metadata": {},
   "outputs": [],
   "source": [
    "mm2 <- mm\n",
    "mm2[1,3] <- 2\n",
    "mm2[7,3] <- 2\n",
    "plot(mm2[,1:2], pch=19, cex=1.5, col=c(\"red\", \"blue\", \"green\")[mm2[,3]],\n",
    "     xlab='GPA', 'GMAT', xlim=c(2,5), ylim=c(2,5))\n",
    "points(mm[c(1,7),-3], pch='O', cex=1.1, col=c(\"red\", \"blue\", \"green\")[mm[c(1,7),3]])"
   ]
  },
  {
   "cell_type": "code",
   "execution_count": null,
   "metadata": {},
   "outputs": [],
   "source": [
    "library(rpart)\n",
    "# default trees on original and modified data\n",
    "a.t <- rpart(V3~V1+V2, data=mm, method='class', parms=list(split='information'))\n",
    "a2.t <- rpart(V3~V1+V2, data=mm2, method='class', parms=list(split='information'))\n",
    "\n",
    "aa <- seq(2, 5, length=200)\n",
    "bb <- seq(2, 5, length=200)\n",
    "dd <- expand.grid(aa, bb)\n",
    "names(dd) <- names(mm)[1:2]\n",
    "\n",
    "# corresponding predictions on the grid\n",
    "p.t <- predict(a.t, newdata=dd, type='prob')\n",
    "p2.t <- predict(a2.t, newdata=dd, type='prob')\n",
    "\n",
    "# reds\n",
    "filled.contour(aa, bb, matrix(p.t[,1], 200, 200), col=terrain.colors(20), xlab='GPA', ylab='GMAT',\n",
    "plot.axes={axis(1); axis(2)}, \n",
    "panel.last={points(mm[,-3], pch=19, cex=1.5, col=c(\"red\", \"blue\", \"green\")[mm[,3]])})"
   ]
  },
  {
   "cell_type": "code",
   "execution_count": null,
   "metadata": {},
   "outputs": [],
   "source": [
    "filled.contour(aa, bb, matrix(p2.t[,1], 200, 200), col=terrain.colors(20), xlab='GPA', ylab='GMAT',\n",
    "plot.axes={axis(1); axis(2)},\n",
    "panel.last={points(mm2[,-3], pch=19, cex=1.5, col=c(\"red\", \"blue\", \"green\")[mm2[,3]]);\n",
    "points(mm[c(1,7),-3], pch='O', cex=1.1, col=c(\"red\", \"blue\", \"green\")[mm[c(1,7),3]])\n",
    "})"
   ]
  },
  {
   "cell_type": "code",
   "execution_count": null,
   "metadata": {},
   "outputs": [],
   "source": [
    "# blues\n",
    "filled.contour(aa, bb, matrix(p.t[,2], 200, 200), col=terrain.colors(20), xlab='GPA', ylab='GMAT',\n",
    "plot.axes={axis(1); axis(2)}, \n",
    "panel.last={ points(mm[,-3], pch=19, cex=1.5, col=c(\"red\", \"blue\", \"green\")[mm[,3]])})"
   ]
  },
  {
   "cell_type": "code",
   "execution_count": null,
   "metadata": {},
   "outputs": [],
   "source": [
    "filled.contour(aa, bb, matrix(p2.t[,2], 200, 200), col=terrain.colors(20), xlab='GPA', ylab='GMAT',\n",
    "plot.axes={axis(1); axis(2)},\n",
    "pane.last={points(mm2[,-3], pch=19, cex=1.5, col=c(\"red\", \"blue\", \"green\")[mm2[,3]]);\n",
    "points(mm[c(1,7),-3], pch='O', cex=1.1, col=c(\"red\", \"blue\", \"green\")[mm[c(1,7),3]])\n",
    "})"
   ]
  },
  {
   "cell_type": "code",
   "execution_count": null,
   "metadata": {},
   "outputs": [],
   "source": [
    "# greens\n",
    "filled.contour(aa, bb, matrix(p.t[,3], 200, 200), col=terrain.colors(20), xlab='GPA', ylab='GMAT',\n",
    "plot.axes={axis(1); axis(2)}, panel.last={ points(mm[,-3], pch=19, cex=1.5, col=c(\"red\", \"blue\", \"green\")[mm[,3]])})"
   ]
  },
  {
   "cell_type": "code",
   "execution_count": null,
   "metadata": {},
   "outputs": [],
   "source": [
    "filled.contour(aa, bb, matrix(p2.t[,3], 200, 200), col=terrain.colors(20), xlab='GPA', ylab='GMAT',\n",
    "plot.axes={axis(1); axis(2)},\n",
    "pane.last={points(mm2[,-3], pch=19, cex=1.5, col=c(\"red\", \"blue\", \"green\")[mm2[,3]]);\n",
    "points(mm[c(1,7),-3], pch='O', cex=1.1, col=c(\"red\", \"blue\", \"green\")[mm[c(1,7),3]])\n",
    "})"
   ]
  },
  {
   "cell_type": "code",
   "execution_count": null,
   "metadata": {},
   "outputs": [],
   "source": [
    "my.c <- rpart.control(minsplit=3, cp=1e-6, xval=10)\n",
    "NB <- 1000\n",
    "ts <- vector('list', NB)\n",
    "set.seed(123)\n",
    "n <- nrow(mm)\n",
    "for(j in 1:NB) {\n",
    "  ii <- sample(1:n, replace=TRUE)\n",
    "  ts[[j]] <- rpart(V3~V1+V2, data=mm[ii,], method='class', parms=list(split='information'), control=my.c)\n",
    "}\n",
    "\n",
    "aa <- seq(2, 5, length=200)\n",
    "bb <- seq(2, 5, length=200)\n",
    "dd <- expand.grid(aa, bb)\n",
    "names(dd) <- names(mm)[1:2]\n",
    "pp0 <- vapply(ts, FUN=predict, FUN.VALUE=matrix(0, 200*200, 3), newdata=dd, type='prob')\n",
    "pp <- apply(pp0, c(1, 2), mean)\n",
    "\n",
    "# reds\n",
    "filled.contour(aa, bb, matrix(pp[,1], 200, 200), col=terrain.colors(20), xlab='GPA', ylab='GMAT',\n",
    "               plot.axes={axis(1); axis(2)},\n",
    "                 panel.last={points(mm[,-3], pch=19, cex=1.5, col=c(\"red\", \"blue\", \"green\")[mm[,3]])})"
   ]
  },
  {
   "cell_type": "code",
   "execution_count": null,
   "metadata": {},
   "outputs": [],
   "source": [
    "# blues\n",
    "filled.contour(aa, bb, matrix(pp[,2], 200, 200), col=terrain.colors(20), xlab='GPA', ylab='GMAT',\n",
    "               plot.axes={axis(1); axis(2)}, \n",
    "                 panel.last={points(mm[,-3], pch=19, cex=1.5, col=c(\"red\", \"blue\", \"green\")[mm[,3]])})"
   ]
  },
  {
   "cell_type": "code",
   "execution_count": null,
   "metadata": {},
   "outputs": [],
   "source": [
    "# greens\n",
    "filled.contour(aa, bb, matrix(pp[,3], 200, 200), col=terrain.colors(20), xlab='GPA', ylab='GMAT',\n",
    "               plot.axes={axis(1); axis(2)}, \n",
    "                 panel.last={points(mm[,-3], pch=19, cex=1.5, col=c(\"red\", \"blue\", \"green\")[mm[,3]])})"
   ]
  },
  {
   "cell_type": "markdown",
   "metadata": {},
   "source": [
    "Random Forests\n",
    "==============\n",
    "\n",
    "Even though using a *bagged* ensemble of trees helps to improve the stability of resulting predictor, it can be improved further. The main idea is to reduce the (conditional) potential correlation among bagged trees, as discussed in class. In `R` we use the funtion `randomForest` from the package with the same name. The syntax is the same as that of `rpart`, but the tuning parameters for each of the *trees* in the *forest* are different from `rpart`. Refer to the help page if you need to modify them."
   ]
  },
  {
   "cell_type": "code",
   "execution_count": null,
   "metadata": {},
   "outputs": [],
   "source": [
    "library(randomForest)\n",
    "a.rf <- randomForest(V3~V1+V2, data=mm, ntree=500) "
   ]
  },
  {
   "cell_type": "markdown",
   "metadata": {},
   "source": [
    "Predictions can be obtained using the `predict` method, as usual, when you specify the `newdata` argument. To visualize the Random Forest, we compute the corresponding predicted conditional class probabilities on the relatively fine grid used before. The predicted conditional probabilities for class *red* are shown in the plot below (how are these computed, exactly?)"
   ]
  },
  {
   "cell_type": "code",
   "execution_count": null,
   "metadata": {},
   "outputs": [],
   "source": [
    "pp.rf <- predict(a.rf, newdata=dd, type='prob')\n",
    "filled.contour(aa, bb, matrix(pp.rf[,1], 200, 200), col=terrain.colors(20), xlab='GPA', ylab='GMAT',\n",
    "               plot.axes={axis(1); axis(2)},\n",
    "                 panel.last={points(mm[,-3], pch=19, cex=1.5, col=c(\"red\", \"blue\", \"green\")[mm[,3]])\n",
    "               })"
   ]
  },
  {
   "cell_type": "markdown",
   "metadata": {},
   "source": [
    "A simple exercise would be for the reader to train a Random Forest on the perturbed data and verify that the predicted conditional probabilities do not change much, as was the case for the bagged classifier.\n",
    "\n",
    "### Another example\n",
    "\n",
    "We will now use a more interesting example. The ISOLET data, available here: <http://archive.ics.uci.edu/ml/datasets/ISOLET>, contains data on sound recordings of 150 speakers saying each letter of the alphabet (twice). See the original source for more details. Since the full data set is rather large, here we only use a subset corresponding to the observations for the letters **C** and **Z**.\n",
    "\n",
    "We first load the training and test data sets, and force the response variable to be categorical, so that the `R` implementations of the different predictors we will use below will build classifiers and not their regression counterparts:"
   ]
  },
  {
   "cell_type": "code",
   "execution_count": null,
   "metadata": {},
   "outputs": [],
   "source": [
    "xtr <- read.table('isolet-train-c-z.data', sep=',')\n",
    "xte <- read.table('isolet-test-c-z.data', sep=',') \n",
    "xtr$V618 <- as.factor(xtr$V618)\n",
    "xte$V618 <- as.factor(xte$V618)"
   ]
  },
  {
   "cell_type": "markdown",
   "metadata": {},
   "source": [
    "We first train a Random Forest, using all the default parameters, and check its performance on the test set:"
   ]
  },
  {
   "cell_type": "code",
   "execution_count": null,
   "metadata": {},
   "outputs": [],
   "source": [
    "library(randomForest)\n",
    "set.seed(123)\n",
    "a.rf <- randomForest(V618 ~ ., data=xtr, ntree=500) \n",
    "p.rf <- predict(a.rf, newdata=xte, type='response')\n",
    "table(p.rf, xte$V618)"
   ]
  },
  {
   "cell_type": "markdown",
   "metadata": {},
   "source": [
    "Note that the Random Forest only makes one mistake out of 120 observations in the test set. The OOB error rate estimate is slightly over 2%, and we see that 500 trees is a reasonable forest size, in the sense thate the OOB error rate estimate is stable."
   ]
  },
  {
   "cell_type": "code",
   "execution_count": null,
   "metadata": {},
   "outputs": [],
   "source": [
    "a.rf"
   ]
  },
  {
   "cell_type": "code",
   "execution_count": null,
   "metadata": {},
   "outputs": [],
   "source": [
    "plot(a.rf, lwd=3, lty=1)"
   ]
  }
 ],
 "metadata": {
  "kernelspec": {
   "display_name": "Python 3",
   "language": "python",
   "name": "python3"
  },
  "language_info": {
   "codemirror_mode": {
    "name": "ipython",
    "version": 3
   },
   "file_extension": ".py",
   "mimetype": "text/x-python",
   "name": "python",
   "nbconvert_exporter": "python",
   "pygments_lexer": "ipython3",
   "version": "3.6.5"
  }
 },
 "nbformat": 4,
 "nbformat_minor": 2
}
