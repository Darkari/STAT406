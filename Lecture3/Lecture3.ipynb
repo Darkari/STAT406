{
 "cells": [
  {
   "cell_type": "markdown",
   "metadata": {},
   "source": [
    "STAT406 - Lecture 3 notes\n",
    "================\n",
    "Matias Salibian-Barrera\n",
    "2018-09-07\n",
    "\n",
    "#### LICENSE\n",
    "\n",
    "These notes are released under the \"Creative Commons Attribution-ShareAlike 4.0 International\" license. See the **human-readable version** [here](https://creativecommons.org/licenses/by-sa/4.0/) and the **real thing** [here](https://creativecommons.org/licenses/by-sa/4.0/legalcode).\n",
    "\n",
    "Lecture slides\n",
    "--------------\n",
    "\n",
    "-   A preliminary version of the lecture slides is [here](STAT406-18-lecture-3-preliminary.pdf).\n",
    "-   The activity hand-out will be here.\n",
    "\n",
    "Cross-validation when the model is chosen using the data\n",
    "--------------------------------------------------------\n",
    "\n",
    "In this document we study how to perform cross-validation when the model was selected or determined using the training data. Consider the following synthetic data set"
   ]
  },
  {
   "cell_type": "code",
   "execution_count": null,
   "metadata": {},
   "outputs": [],
   "source": [
    "dat <- read.table('fallacy.dat', header=TRUE, sep=',')"
   ]
  },
  {
   "cell_type": "markdown",
   "metadata": {},
   "source": [
    "This is the same data used in class. In this example we know what the \"true\" model is, and thus we also know what the \"optimal\" predictor is. However, let us ignore this knowledge, and build a linear model instead. Given how many variables are available, we use forward stepwise (AIC-based) to select a good subset of them to include in our linear model:"
   ]
  },
  {
   "cell_type": "code",
   "execution_count": null,
   "metadata": {},
   "outputs": [],
   "source": [
    "library(MASS)\n",
    "p <- ncol(dat)\n",
    "null <- lm(Y~1, data=dat)\n",
    "full <- lm(Y~., data=dat) # needed for stepwise\n",
    "step.lm <- stepAIC(null, scope=list(lower=null, upper=full), trace=FALSE)"
   ]
  },
  {
   "cell_type": "markdown",
   "metadata": {},
   "source": [
    "Without thinking too much, we use 50 runs of 5-fold CV (ten runs) to compare the MSPE of the **null** model (which we know is \"true\") and the one we obtained using forward stepwise:"
   ]
  },
  {
   "cell_type": "code",
   "execution_count": null,
   "metadata": {},
   "outputs": [],
   "source": [
    "n <- nrow(dat)\n",
    "ii <- (1:n) %% 5 + 1\n",
    "set.seed(17)\n",
    "N <- 50\n",
    "mspe.n <- mspe.st <- rep(0, N)\n",
    "for(i in 1:N) {\n",
    "  ii <- sample(ii)\n",
    "  pr.n <- pr.st <- rep(0, n)\n",
    "  for(j in 1:5) {\n",
    "    tmp.st <- update(step.lm, data=dat[ii != j, ])\n",
    "    pr.st[ ii == j ] <- predict(tmp.st, newdata=dat[ii == j, ])\n",
    "    pr.n[ ii == j ] <- with(dat[ii != j, ], mean(Y))\n",
    "  }\n",
    "  mspe.st[i] <- with(dat, mean( (Y - pr.st)^2 ))\n",
    "  mspe.n[i] <- with(dat, mean( (Y - pr.n)^2 ))\n",
    "}\n",
    "boxplot(mspe.st, mspe.n, names=c('Stepwise', 'NULL'), col=c('gray60', 'hotpink'), main='Wrong')"
   ]
  },
  {
   "cell_type": "code",
   "execution_count": null,
   "metadata": {},
   "outputs": [],
   "source": [
    "summary(mspe.st)"
   ]
  },
  {
   "cell_type": "code",
   "execution_count": null,
   "metadata": {},
   "outputs": [],
   "source": [
    "summary(mspe.n)"
   ]
  },
  {
   "cell_type": "markdown",
   "metadata": {},
   "source": [
    "-   **Something is wrong!** What? Why?\n",
    "-   What would you change above to obtain reliable estimates for the MSPE of the model selected with the stepwise approach?\n",
    "\n",
    "<!-- ## Correlated covariates -->\n",
    "<!-- Technological advances in recent decades have resulted in data  -->\n",
    "<!-- being collected in a fundamentally different way from the way  -->\n",
    "<!-- it was when \"classical\" statistical methods were proposed.  -->\n",
    "<!-- Specifically, it is not at all uncommon to have data sets with -->\n",
    "<!-- an abundance of potentially useful explanatory variables.  -->\n",
    "<!-- Sometimes the investigators are not sure which of them can be  -->\n",
    "<!-- expected to be useful or meaningful. In many applications one -->\n",
    "<!-- finds data with many more variables than cases.  -->\n",
    "<!-- A consequence of this \"wide net\" data collection strategy is  -->\n",
    "<!-- that many of the explanatory variables may be correlated with -->\n",
    "<!-- each other. In what follows we will illustrate some of the -->\n",
    "<!-- problems that this can cause both when training and interpreting -->\n",
    "<!-- models, and also with the resulting predictions. -->\n",
    "<!-- ### Significant variables \"dissappear\" -->\n",
    "<!-- Consider the air pollution data set, and the fit to the  -->\n",
    "<!-- **reduced** linear regression model used previously in class: -->\n",
    "<!-- ```{r signif} -->\n",
    "<!-- # Correlated covariates -->\n",
    "<!-- x <- read.table('../Lecture1/rutgers-lib-30861_CSV-1.csv', header=TRUE, sep=',') -->\n",
    "<!-- reduced <- lm(MORT ~ POOR + HC + NOX + HOUS + NONW, data=x) -->\n",
    "<!-- round( summary(reduced)$coef, 3) -->\n",
    "<!-- ``` -->\n",
    "<!-- Note that all coefficients seem to be significant based on -->\n",
    "<!-- the individual tests of hypothesis (with `POOR` and  -->\n",
    "<!-- `HOUS` maybe only marginally so). In this sense all 5 -->\n",
    "<!-- explanatory varibles in this model appear to be relevant. -->\n",
    "<!-- Now, we fit the **full** model, that is, we include -->\n",
    "<!-- all available explanatory variables in the data set: -->\n",
    "<!-- ```{r signif2} -->\n",
    "<!-- full <- lm(MORT ~ ., data=x) -->\n",
    "<!-- round( summary(full)$coef, 3) -->\n",
    "<!-- ``` -->\n",
    "<!-- Now we have many more parameters to estimate, and while two of -->\n",
    "<!-- them appear to be significantly different from zero (`NONW` -->\n",
    "<!-- and `PREC`), all the others seem to be redundant.  -->\n",
    "<!-- In particular, note that the p-values for the individual -->\n",
    "<!-- test of hypotheses for 4 out of the 5   -->\n",
    "<!-- regression coefficients for the variables of the **reduced** -->\n",
    "<!-- model have now become not significant. -->\n",
    "<!-- ```{r signif3} -->\n",
    "<!-- round( summary(full)$coef[ names(coef(reduced)), ], 3) -->\n",
    "<!-- ``` -->\n",
    "<!-- ### Why does this happen?  -->\n",
    "<!-- Recall that the covariance matrix of the least squares estimator involves the -->\n",
    "<!-- inverse of (X'X), where X' denotes the transpose of the n x p matrix X (that -->\n",
    "<!-- contains each vector of explanatory variables as a row). It is easy to see  -->\n",
    "<!-- that if two columns of X are linearly dependent, then X'X will be rank deficient.  -->\n",
    "<!-- When two columns of X are \"close\" to being linearly dependent (e.g. their -->\n",
    "<!-- linear corrleation is high), then the matrix X'X will be ill-conditioned, and -->\n",
    "<!-- its inverse will have very large entries. This means that the estimated  -->\n",
    "<!-- standard errors of the least squares estimator will be unduly large, resulting -->\n",
    "<!-- in non-significant test of hypotheses for each parameter separately, even if -->\n",
    "<!-- the global test for all of them simultaneously is highly significant. -->\n",
    "<!-- ### Why is this a problem if we are interested in prediction? -->\n",
    "<!-- Although in many applications one is interested in interpreting the parameters -->\n",
    "<!-- of the model, even if one is only trying to fit / train a model to do -->\n",
    "<!-- predictions, highly variable parameter estimators will typically result in -->\n",
    "<!-- a noticeable loss of prediction accuracy. This can be easily seen from the  -->\n",
    "<!-- bias / variance factorization of the mean squared prediction error (MSPE)  -->\n",
    "<!-- mentioned in class. Hence, better predictions can be obtained if one -->\n",
    "<!-- uses less-variable parameter estimators.  -->\n",
    "<!-- ### What can we do? -->\n",
    "<!-- A commonly used strategy is to remove some explanatory variables from the -->\n",
    "<!-- model, leaving only non-redundant covariates. However, this is easier said than -->\n",
    "<!-- done. You have seen some strategies in other courses (stepwise variable selection, etc.) -->\n",
    "<!-- In coming weeks we will investigate other methods to deal with this problem. -->"
   ]
  }
 ],
 "metadata": {
  "kernelspec": {
   "display_name": "R",
   "language": "R",
   "name": "ir"
  },
  "language_info": {
   "codemirror_mode": "r",
   "file_extension": ".r",
   "mimetype": "text/x-r-source",
   "name": "R",
   "pygments_lexer": "r",
   "version": "3.5.0"
  }
 },
 "nbformat": 4,
 "nbformat_minor": 2
}
