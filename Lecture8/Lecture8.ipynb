{
 "cells": [
  {
   "cell_type": "markdown",
   "metadata": {},
   "source": [
    "STAT406 - Lecture 8 notes\n",
    "================\n",
    "Matias Salibian-Barrera\n",
    "2018-09-28\n",
    "\n",
    "#### LICENSE\n",
    "\n",
    "These notes are released under the \"Creative Commons Attribution-ShareAlike 4.0 International\" license. See the **human-readable version** [here](https://creativecommons.org/licenses/by-sa/4.0/) and the **real thing** [here](https://creativecommons.org/licenses/by-sa/4.0/legalcode).\n",
    "\n",
    "Lecture slides\n",
    "--------------\n",
    "\n",
    "-   The lecture slides will be here.\n",
    "\n",
    "Non-parametric regression\n",
    "=========================\n",
    "\n",
    "We now turn our attention to the situation where the regression function E(Y|X) is not necessarily linear. Furthermore, we will assume that its *form* is **unknown**. If we knew that the regression function was a linear combination of a sine and a cosine function, \"E(Y|X=x) = a + b sin(x) + c cos(x)\", where *a*, *b* and *c* are uknown, for example, then the problem would in fact be a linear regression problem. More in general, when the true regression function is known (or assumed) to belong to a family of functions that we can parametrize, then the estimation can be done via standard least squares. Instead here we focus on the case where the regression function is **completely unknown**.\n",
    "\n",
    "In this note and the next one will discuss two ways to estimating E(Y|X):\n",
    "\n",
    "1.  one using bases (e.g. a polynomial basis, or a spline basis); and\n",
    "2.  one using kernels (aka local regression).\n",
    "\n",
    "To simplify the presentation (but also because of an intrinsic limitation of these methods, which will be discussed in more detail later in the course), we will initially only consider the case where there is a single explanatory variable (i.e. X above is a scalar, not a vector).\n",
    "\n",
    "Polynomial regression\n",
    "---------------------\n",
    "\n",
    "To illustrate these basis methods, we will consider the `lidar` data, available in the package `SemiPar`. More information is available from the corresponding help page: `help(lidar, package='SemiPar')`. We now load the data and plot it, the response variable is `logratio` and the explanatory one is `range`:"
   ]
  },
  {
   "cell_type": "code",
   "execution_count": null,
   "metadata": {},
   "outputs": [],
   "source": [
    "data(lidar, package='SemiPar')\n",
    "plot(logratio ~ range, data=lidar, pch=19, col='gray', cex=1.5)"
   ]
  },
  {
   "cell_type": "markdown",
   "metadata": {},
   "source": [
    "In class we discussed the formal motivation to look into a polynomial approximation of the regression function. This argument, however, does not specify which degree of the approximating polynomial to use. Here we first try a 4th degree polynomial and the problem reduces to a linear regression one (see the lecture slides). We can use a command like `lm(logratio ~ range + range^2 + range^3 + range^4)`. However, this call to `lm` will not work as we intend it (I recommend that you check this and find out the reason why). Instead, we would need to use something like `lm(logratio ~ range + I(range^2) + I(range^3) + I(range^4))`. To avoid having to type a long formula, we can instead use the function `poly()` in `R` to generate the design matrix containing the desired powers of `range`, and plug that into the call to `lm()`. The code below fits two such approximations (a 3rd degree and a 4th degree polynomial), plots the data and overlays the estimated regression function:"
   ]
  },
  {
   "cell_type": "code",
   "execution_count": null,
   "metadata": {},
   "outputs": [],
   "source": [
    "# Degree 4 polynomials\n",
    "pm <- lm(logratio ~ poly(range, 4), data=lidar)\n",
    "plot(logratio ~ range, data=lidar, pch=19, col='gray', cex=1.5)\n",
    "lines(predict(pm)[order(range)] ~ sort(range), data=lidar, lwd=6, col='blue')\n",
    "pm3 <- lm(logratio ~ poly(range, 3), data=lidar)\n",
    "lines(predict(pm3)[order(range)] ~ sort(range), data=lidar, lwd=6, col='hotpink')\n",
    "legend('topright', legend=c('3rd degree', '4th degree'), lwd=6, col=c('hotpink', 'blue'))"
   ]
  },
  {
   "cell_type": "markdown",
   "metadata": {},
   "source": [
    "Note that this fit is reasonable, although there is probably room for improvement. Based on the formal motivation discussed in class to use polynomials in the first place, it may seem natural to increase the order of the approximating polynomial in order to improve the quality of the approximation. However, this is easily seen not to be a good idea. Below we compare the 4th degree approximation used above (in blue) with a 10th degree one (in red):"
   ]
  },
  {
   "cell_type": "code",
   "execution_count": null,
   "metadata": {},
   "outputs": [],
   "source": [
    "# Degree 10 polynomials\n",
    "pm2 <- lm(logratio ~ poly(range, 10), data=lidar)\n",
    "plot(logratio ~ range, data=lidar, pch=19, col='gray', cex=1.5)\n",
    "lines(predict(pm)[order(range)] ~ sort(range), data=lidar, lwd=6, col='blue')\n",
    "lines(predict(pm2)[order(range)]~sort(range), data=lidar, lwd=6, col='red')"
   ]
  },
  {
   "cell_type": "markdown",
   "metadata": {},
   "source": [
    "Note that the 10th order fit follows the data much more closely, but it starts to become \"too adaptive\" and departing quite often from the main (larger scale) trend we associate with the regression (conditional mean) function.\n",
    "\n",
    "(Can you explain the discrepancy between what we observe above and the motivation we used in class, that suggests that higher order polynomials provide better approximations?)\n",
    "\n",
    "A more stable basis: splines\n",
    "----------------------------\n",
    "\n",
    "Part of the problem with global polynomial bases as the ones used above is that they necessarily become more wiggly within the range of the data, and also quickly increase or decrease near the edge of the observations. A more stable but also remarkably flexible basis is given by spline functions, as discussed in class.\n",
    "\n",
    "We first here show how to build a naive linear spline basis with 5 knots (placed at the `(1:5)/6` quantiles (i.e. the 0.17, 0.33, 0.5, 0.67, 0.83 percentiles) of the observed values of the explanatory variable), and use it to estimate the regression function. Remember that a linear spline function with knot *w* is given by `f_w(x) = max( x - w, 0 )`. Given a fixed set of pre-selected knots *w\\_1*, *w\\_2*, ..., *w\\_k*, we consider regression functions that are linear combinations of the corresponding k linear spline functions.\n",
    "\n",
    "Note that for higher-order splines (e.g. cubic splines discussed below), the naive spline basis used above is numerically very unstable, and usually works poorly in practice. I include it here simply as an illustration of the methodology and to stress the point that this type of approach (that estimates the regression function as a linear combination of an explicit basis) is in fact nothing more than slightly more complex linear models.\n",
    "\n",
    "First we find the 5 knots mentioned above that will be used to construct the spline basis:"
   ]
  },
  {
   "cell_type": "code",
   "execution_count": null,
   "metadata": {},
   "outputs": [],
   "source": [
    "# select the knots at 5 specific quantiles\n",
    "( kn <- as.numeric( quantile(lidar$range, (1:5)/6) ) )"
   ]
  },
  {
   "cell_type": "markdown",
   "metadata": {},
   "source": [
    "Now we compute the matrix of \"explanatory variables\", that is: the matrix that in its columns has each of the 5 basis functions *f\\_1*, *f\\_2*, ..., *f\\_5* evaluated at the n observed values of the (single) explanatory variable *x\\_1*, ..., *x\\_n*. In other words, the matrix **X** has in its *(i, j)* cell the value *f\\_j(x\\_i)*, for *j=1*, ..., *k*, and *i=1*, ..., *n*. In the code below we use (abuse?) `R`'s *recycling* rules when operating over vectors and arrays (can you spot it?)"
   ]
  },
  {
   "cell_type": "code",
   "execution_count": null,
   "metadata": {},
   "outputs": [],
   "source": [
    "# prepare the matrix of covariates / explanatory variables\n",
    "x <- matrix(0, dim(lidar)[1], length(kn)+1)\n",
    "for(j in 1:length(kn)) {\n",
    "x[,j] <- pmax(lidar$range-kn[j], 0)\n",
    "}\n",
    "x[, length(kn)+1] <- lidar$range"
   ]
  },
  {
   "cell_type": "markdown",
   "metadata": {},
   "source": [
    "Now that we have the matrix of our \"explanatory variables\", we can simply use `lm` to estimate the coefficients of the linear combination of the functions in the spline basis that will provide our regression function estimator. We then plot the data and overlay the fitted / estimated regression function:"
   ]
  },
  {
   "cell_type": "code",
   "execution_count": null,
   "metadata": {},
   "outputs": [],
   "source": [
    "# Fit the regression model\n",
    "ppm <- lm(lidar$logratio ~ x)\n",
    "plot(logratio ~ range, data=lidar, pch=19, col='gray', cex=1.5)\n",
    "lines(predict(ppm)[order(range)] ~ sort(range), data=lidar, lwd=6, col='hotpink')"
   ]
  },
  {
   "cell_type": "markdown",
   "metadata": {},
   "source": [
    "There are better (numerically more stable) bases for the same linear space spanned by these spline functions. These bases have different numerical properties and can become cumbersome to describe. Here we use the function `bs` (in package `splines`) to build a B-spline basis. For an accessible discussion, see for example Section 4.1 of\n",
    "\n",
    "> Wood, S. (2006). *Generalized additive models : an introduction with R*. Chapman & Hall/CRC, Boca Raton, FL. [Library link](http://resolve.library.ubc.ca/cgi-bin/catsearch?bid=8140311).\n",
    "\n",
    "Given the chosen knots and the degree of the splines (linear, quadratic, cubic, etc.) the set (linear space) of functions we are using to construct our regression estimate does not depend on the basis we use. As a consequence, the estimated regression function should be the same regardless of the basis we use (provided we do not run into serious numerical issues). To illustrate this fact, we will use a B-spline basis with the same 5 knots as above, and compare the estimated regression function with the one we obtained above using our **poor people** naive basis. The plot below overlays both fits (the naive one with a thick pink line as above, and the one using b-splines with a thinner blue line):"
   ]
  },
  {
   "cell_type": "code",
   "execution_count": null,
   "metadata": {},
   "outputs": [],
   "source": [
    "library(splines)\n",
    "ppm2 <- lm(logratio ~ bs(range, degree=1, knots=kn), data=lidar)\n",
    "plot(logratio ~ range, data=lidar, pch=19, col='gray', cex=1.5)\n",
    "lines(predict(ppm)[order(range)] ~ sort(range), data=lidar, lwd=8, col='hotpink')\n",
    "lines(predict(ppm2)[order(range)] ~ sort(range), data=lidar, lwd=3, col='darkblue')"
   ]
  },
  {
   "cell_type": "markdown",
   "metadata": {},
   "source": [
    "As expected, both fits provide the same estimated regression function, although its coefficients will be different:"
   ]
  },
  {
   "cell_type": "code",
   "execution_count": null,
   "metadata": {},
   "outputs": [],
   "source": [
    "coef(ppm)"
   ]
  },
  {
   "cell_type": "code",
   "execution_count": null,
   "metadata": {},
   "outputs": [],
   "source": [
    "coef(ppm2)"
   ]
  },
  {
   "cell_type": "markdown",
   "metadata": {},
   "source": [
    "Note that, because we are using a set of linear splines, our estimated regression functions will always be piecewise linear (i.e. linear functions between each pair of knots). To obtain smoother (e.g. differentiable, continuously differentiable, or even twice continously differentiable) regression estimators below we will use higher-order splines.\n",
    "\n",
    "### Higher order splines (quadratic, cubic, etc.)\n",
    "\n",
    "Here we directly use the function `bs` to evaluate the desired spline basis on the observed values of the explanatory variable (in this case `range`). We use the arguments `degree = 2` and `knots = kn` to indicate we want a quadratic spline basis with knots located at the elements of the vector `kn`. As before, we then simply use `lm` to estimate the coefficients, and overlay the estimated regression function over the data:"
   ]
  },
  {
   "cell_type": "code",
   "execution_count": null,
   "metadata": {},
   "outputs": [],
   "source": [
    "plot(logratio ~ range, data=lidar, pch=19, col='gray', cex=1.5)\n",
    "ppmq <- lm(logratio ~ bs(range, degree=2, knots=kn), data=lidar)\n",
    "lines(predict(ppmq)[order(range)]~sort(range), data=lidar, lwd=6, col='steelblue')"
   ]
  },
  {
   "cell_type": "markdown",
   "metadata": {},
   "source": [
    "A useful consequence of the fact that these regression estimators are in fact just linear regression estimators (but using a richer / more flexible basis than just the straight predictors) is that we can easily compute (pointwise) standard errors for the fitted regression curve, as follows. We first fit and plot a quadratic spline using the same 5 knots as before:"
   ]
  },
  {
   "cell_type": "code",
   "execution_count": null,
   "metadata": {},
   "outputs": [],
   "source": [
    "plot(logratio~range, data=lidar, pch=19, col='gray', cex=1.5)\n",
    "ppmc <- lm(logratio ~ bs(range, degree=2, knots=kn), data=lidar)\n",
    "lines(predict(ppmc)[order(range)]~sort(range), data=lidar, lwd=6, col='gray30')"
   ]
  },
  {
   "cell_type": "markdown",
   "metadata": {},
   "source": [
    "To compute the estimated standard error of the predicted regression curve on a grid of values of the explanatory variable `range`, we first build a grid of 200 equally spaced points within the observed scope of the variable `range`:"
   ]
  },
  {
   "cell_type": "code",
   "execution_count": null,
   "metadata": {},
   "outputs": [],
   "source": [
    "xx <- seq(min(lidar$range), max(lidar$range), length=200)"
   ]
  },
  {
   "cell_type": "markdown",
   "metadata": {},
   "source": [
    "The `predict` method for objects of class `lm` returns estimated standard errors for each fitted value if we set the argument `se.fit = TRUE`:"
   ]
  },
  {
   "cell_type": "code",
   "execution_count": null,
   "metadata": {},
   "outputs": [],
   "source": [
    "ppmc <- lm(logratio ~ bs(range, degree=2, knots=kn), data=lidar)\n",
    "ps <- predict(ppmc, newdata=list(range=xx), se.fit=TRUE)"
   ]
  },
  {
   "cell_type": "markdown",
   "metadata": {},
   "source": [
    "We now compute upper and lower confidence bands (I used 2 standard errors) around the fitted regression line:"
   ]
  },
  {
   "cell_type": "code",
   "execution_count": null,
   "metadata": {},
   "outputs": [],
   "source": [
    "up <- (ps$fit+2*ps$se.fit)\n",
    "lo <- (ps$fit-2*ps$se.fit)"
   ]
  },
  {
   "cell_type": "markdown",
   "metadata": {},
   "source": [
    "Finally, we display the *confidence bands* we just constructed (using **base R** graphics, but also consider using `ggplot2`):"
   ]
  },
  {
   "cell_type": "code",
   "execution_count": null,
   "metadata": {},
   "outputs": [],
   "source": [
    "plot(logratio ~ range, data=lidar, pch=19, col='gray', cex=1.5)\n",
    "lines(predict(ppmc)[order(range)] ~ sort(range), data=lidar, lwd=4, col='gray30')\n",
    "myrgb <- col2rgb('red') / 256 #, alpha=TRUE)\n",
    "myrgb <- rgb(red=myrgb[1], green=myrgb[2], blue=myrgb[3], alpha=.3)\n",
    "polygon(c(xx, rev(xx)), c(up, rev(lo)), density=NA, col=myrgb) #'lightblue')\n",
    "lines(ps$fit ~ xx, data=lidar, lwd=4, col='blue')"
   ]
  },
  {
   "cell_type": "markdown",
   "metadata": {},
   "source": [
    "**It is important to note that the above confidence bands were constructed assuming that the knots were fixed (not random), and similarly for the degree of the spline basis.**\n",
    "\n",
    "Increasing the degree of the cubic basis yields smoother fits (having higher order continuous derivatives). For example, using cubic splines yields an even smoother fit:"
   ]
  },
  {
   "cell_type": "code",
   "execution_count": null,
   "metadata": {},
   "outputs": [],
   "source": [
    "# cubic splines\n",
    "plot(logratio ~ range, data=lidar, pch=19, col='gray', cex=1.5)\n",
    "ppmc <- lm(logratio ~ bs(range, degree=3, knots=kn), data=lidar)\n",
    "lines(predict(ppmc)[order(range)] ~ sort(range), data=lidar, lwd=6, col='tomato3')"
   ]
  },
  {
   "cell_type": "markdown",
   "metadata": {},
   "source": [
    "Note that the estimated regression function seems to have started to \"twitch\" and wiggle, particularly at the upper end of our observations.\n",
    "\n",
    "How many knots should we use?\n",
    "-----------------------------\n",
    "\n",
    "So far we have used 5 knots, but we could have used any other number of knots. If we consider a quadratic spline basis with 10 knots, the fit appears a bit better (at least aesthetically):"
   ]
  },
  {
   "cell_type": "code",
   "execution_count": null,
   "metadata": {},
   "outputs": [],
   "source": [
    "k <- 10\n",
    "kn <- as.numeric( quantile(lidar$range, (1:k)/(k+1)) )\n",
    "plot(logratio ~ range, data=lidar, pch=19, col='gray', cex=1.5)\n",
    "ppmc <- lm(logratio ~ bs(range, degree=2, knots=kn), data=lidar)\n",
    "lines(predict(ppmc)[order(range)] ~ sort(range), data=lidar, lwd=6, col='tomato3')"
   ]
  },
  {
   "cell_type": "markdown",
   "metadata": {},
   "source": [
    "What about using more knots? The following plot used 50 knots:"
   ]
  },
  {
   "cell_type": "code",
   "execution_count": null,
   "metadata": {},
   "outputs": [],
   "source": [
    "k <- 50\n",
    "kn <- as.numeric( quantile(lidar$range, (1:k)/(k+1)) )\n",
    "ppmc <- lm(logratio ~ bs(range, degree=2, knots=kn), data=lidar)\n",
    "plot(logratio ~ range, data=lidar, pch=19, col='gray', cex=1.5)\n",
    "lines(predict(ppmc)[order(range)] ~ sort(range), data=lidar, lwd=6, col='hotpink')"
   ]
  },
  {
   "cell_type": "markdown",
   "metadata": {},
   "source": [
    "Clearly not a good idea!\n",
    "\n",
    "Smoothing splines\n",
    "-----------------\n",
    "\n",
    "If we were to follow the approach discussed so far we would need to find an \"optimal\" of selecting the number of knots and their positions, **plus** the order of the spline basis. Although one could consider using cross-validation for this, we note that this would require considerable computational effort (we would need to perform an exhaustive search on a 3-dimensional grid).\n",
    "\n",
    "We saw in class that *natural cubic splines* provide a natural *optimal* space to look for a good regression estimator. For a formal but surprisingly simple proof of this optimality result, see again Section 4.1 of\n",
    "\n",
    "> Wood, S. (2006). *Generalized additive models : an introduction with R*. Chapman & Hall/CRC, Boca Raton, FL. [Library link](http://resolve.library.ubc.ca/cgi-bin/catsearch?bid=8140311).\n",
    "\n",
    "This result not only justifies using natural cubic splines, but also eliminates many of the unknown \"tuning parameters\" (the degree of the spline basis, the number of knots, and their locations). In fact, we only need to select one tuning parameter--the penalty term, which can be done using any cross-validation \"flavour\" (although in this setting leave-one-out CV is particularly appealing, as we discussed in class).\n",
    "\n",
    "<!-- our approach, showing -->\n",
    "<!-- that we only need to consider regularized (penalized) *natural cubic splines*  -->\n",
    "<!-- with *n* knots,  -->\n",
    "<!-- one per observed value of the explanatory variable. Then, we will only to  -->\n",
    "<!-- choose the value of the penalization term.  -->\n",
    "<!-- * *natural cubic splines* are linear beyond the first and last knot, and  -->\n",
    "<!-- thus will not \"twich\" at the edges, and will provide a more stable  -->\n",
    "<!-- regression estimator. -->\n",
    "The function `smooth.spline` in `R` computes a cubic smoothing spline (natural cubic spline). Details on its arguments and different options are available from its help page.\n",
    "\n",
    "When applied to the `lidar` data with penalization parameter equal to 0.2 (setting the argument `spar = 0.2`) we obtain the following estimated regression function:"
   ]
  },
  {
   "cell_type": "code",
   "execution_count": null,
   "metadata": {},
   "outputs": [],
   "source": [
    "plot(logratio ~ range, data=lidar, pch=19, col='gray', cex=1.5)\n",
    "tmp <- smooth.spline(x=lidar$range, y=lidar$logratio, spar=.2, cv=FALSE,\n",
    "all.knots=TRUE)\n",
    "lines(tmp$y~tmp$x, lwd=6, col='magenta')"
   ]
  },
  {
   "cell_type": "markdown",
   "metadata": {},
   "source": [
    "This fit is clearly too wiggly and unsatisfactory. To obtain a smoother fit we increase the penalty term to 0.5:"
   ]
  },
  {
   "cell_type": "code",
   "execution_count": null,
   "metadata": {},
   "outputs": [],
   "source": [
    "plot(logratio ~ range, data=lidar, pch=19, col='gray', cex=1.5)\n",
    "tmp <- smooth.spline(x=lidar$range, y=lidar$logratio, spar=.5, cv=FALSE, all.knots=TRUE)\n",
    "lines(tmp$y~tmp$x, lwd=6, col='red')"
   ]
  },
  {
   "cell_type": "markdown",
   "metadata": {},
   "source": [
    "The larger the penalty parameter, the smoother the fit. Setting it to 0.8 yields:"
   ]
  },
  {
   "cell_type": "code",
   "execution_count": null,
   "metadata": {},
   "outputs": [],
   "source": [
    "plot(logratio ~ range, data=lidar, pch=19, col='gray', cex=1.5)\n",
    "tmp <- smooth.spline(x=lidar$range, y=lidar$logratio, spar=.8, cv=FALSE, all.knots=TRUE)\n",
    "lines(tmp$y~tmp$x, lwd=6, col='blue')"
   ]
  },
  {
   "cell_type": "markdown",
   "metadata": {},
   "source": [
    "It is easy to see that the larger the penalty coefficient the closer the resulting natural cubic spline becomes to a linear function (why?). For example, if we use `smooth.spline(spar=2)`:"
   ]
  },
  {
   "cell_type": "code",
   "execution_count": null,
   "metadata": {},
   "outputs": [],
   "source": [
    "plot(logratio ~ range, data=lidar, pch=19, col='gray', cex=1.5)\n",
    "tmp <- smooth.spline(x=lidar$range, y=lidar$logratio, spar=2, cv=FALSE, all.knots=TRUE)\n",
    "lines(tmp$y~tmp$x, lwd=6, col='tomato3')"
   ]
  },
  {
   "cell_type": "markdown",
   "metadata": {},
   "source": [
    "Selecting an \"optimal\" penalty parameter\n",
    "----------------------------------------\n",
    "\n",
    "As discussed in class, an \"optimal\" natural cubic spline can be found using cross-validation, and for these linear predictors, leave-one-out cross-validation is particularly attractive (in terms of computational cost). The function `smooth.spline` in `R` will compute (and use) an optimal value for the penalty term using leave-one-out cross-validation when we set the argument `cv = TRUE`:"
   ]
  },
  {
   "cell_type": "code",
   "execution_count": null,
   "metadata": {},
   "outputs": [],
   "source": [
    "tmp.cv <- smooth.spline(x=lidar$range, y=lidar$logratio, cv=TRUE, all.knots=TRUE)\n",
    "# tmp.cv$spar = 0.974\n",
    "plot(logratio ~ range, data=lidar, pch=19, col='gray', cex=1.5)\n",
    "lines(tmp.cv$y ~ tmp.cv$x, lwd=6, col='blue')"
   ]
  },
  {
   "cell_type": "markdown",
   "metadata": {},
   "source": [
    "Note that the optimal value found for the regularization parameter (`spar`) is also returned in the element `$spar` of the object returned by `smooth.spline`. Just as a **sanity check** we can now call `smooth.spline` with `cv = FALSE` and manually set `spar` to this optimal value, and verify that we obtain the same fit:"
   ]
  },
  {
   "cell_type": "code",
   "execution_count": null,
   "metadata": {},
   "outputs": [],
   "source": [
    "plot(logratio ~ range, data=lidar, pch=19, col='gray', cex=1.5)\n",
    "lines(tmp.cv$y ~ tmp.cv$x, lwd=8, col='blue')\n",
    "tmp <- smooth.spline(x=lidar$range, y=lidar$logratio, spar=tmp.cv$spar, cv=FALSE, all.knots=TRUE)\n",
    "lines(tmp$y ~ tmp$x, lwd=3, col='red')"
   ]
  }
 ],
 "metadata": {
  "kernelspec": {
   "display_name": "R",
   "language": "R",
   "name": "ir"
  },
  "language_info": {
   "codemirror_mode": "r",
   "file_extension": ".r",
   "mimetype": "text/x-r-source",
   "name": "R",
   "pygments_lexer": "r",
   "version": "3.5.0"
  }
 },
 "nbformat": 4,
 "nbformat_minor": 2
}
