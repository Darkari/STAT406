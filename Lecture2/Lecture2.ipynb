{
 "cells": [
  {
   "cell_type": "markdown",
   "metadata": {},
   "source": [
    "STAT406 - Lecture 2 notes\n",
    "================\n",
    "Matias Salibian-Barrera\n",
    "2018-08-20\n",
    "\n",
    "#### LICENSE\n",
    "\n",
    "These notes are released under the \"Creative Commons Attribution-ShareAlike 4.0 International\" license. See the **human-readable version** [here](https://creativecommons.org/licenses/by-sa/4.0/) and the **real thing** [here](https://creativecommons.org/licenses/by-sa/4.0/legalcode).\n",
    "\n",
    "Lecture slides\n",
    "--------------\n",
    "\n",
    "The lecture slides will be here.\n",
    "\n",
    "Predictions using a linear model\n",
    "--------------------------------\n",
    "\n",
    "In these notes we continue looking at the problem of comparing different models based on their prediction properties. As in the previous lecture, we consider a **full** and a **reduced** model, and in all that follows we assume that the variables included in the **reduced** model were not selected using the training data. **This seemingly innocent assumption is in fact critical, and we will later come back to it.**\n",
    "\n",
    "### Estimating the MSPE with a test set\n",
    "\n",
    "One way to estimate the mean squared prediction error of a model or predictor is to use it on a test set (where the responses are known, but that was not used when training the predcitor or estimating the model), and the comparing the predictions with the actual responses.\n",
    "\n",
    "First, we load the training set and fit both models:"
   ]
  },
  {
   "cell_type": "code",
   "execution_count": null,
   "metadata": {},
   "outputs": [],
   "source": [
    "x.tr <- read.table('../Lecture1/pollution-train.dat', header=TRUE, sep=',')\n",
    "full <- lm(MORT ~ . , data=x.tr)\n",
    "reduced <- lm(MORT ~ POOR + HC + NOX + HOUS + NONW, data=x.tr)"
   ]
  },
  {
   "cell_type": "markdown",
   "metadata": {},
   "source": [
    "Although the **full** model fits the data better than the reduced one (see Lecture 1), its predictions on the test set are better:"
   ]
  },
  {
   "cell_type": "code",
   "execution_count": null,
   "metadata": {},
   "outputs": [],
   "source": [
    "x.te <- read.table('../Lecture1/pollution-test.dat', header=TRUE, sep=',')\n",
    "pr.full <- predict(full, newdata=x.te)\n",
    "pr.reduced <- predict(reduced, newdata=x.te)\n",
    "with(x.te, mean( (MORT - pr.full)^2 ))"
   ]
  },
  {
   "cell_type": "code",
   "execution_count": null,
   "metadata": {},
   "outputs": [],
   "source": [
    "with(x.te, mean( (MORT - pr.reduced)^2 ))"
   ]
  },
  {
   "cell_type": "markdown",
   "metadata": {},
   "source": [
    "In Lecture 1 we also saw that this is not just an artifact of the specific training / test split of the data. The **reduced** model generally produces better predictions, regardless of the specific training / test split we use. We can verify this repeating the procedure many times (50, say) and looking at the estimated mean squared prediction errors obtained each time for each model."
   ]
  },
  {
   "cell_type": "code",
   "execution_count": null,
   "metadata": {},
   "outputs": [],
   "source": [
    "x <- read.csv('../Lecture1/rutgers-lib-30861_CSV-1.csv')\n",
    "set.seed(123)\n",
    "Nsplits <- 50\n",
    "mspe.full <- mspe.red <- vector('numeric', Nsplits)\n",
    "for(j in 1:Nsplits) {\n",
    "  g <- sample(rep(1:4, each=15))\n",
    "  a.tr <- x[g != 2, ]\n",
    "  a.te <- x[g == 2, ]\n",
    "  full <- lm(MORT ~ . , data=a.tr)\n",
    "  reduced <- lm(MORT ~ POOR + HC + NOX + HOUS + NONW, data=a.tr)\n",
    "  a.te$pr.full <- predict(full, newdata=a.te)\n",
    "  a.te$pr.reduced <- predict(reduced, newdata=a.te)\n",
    "  mspe.full[j] <- with(a.te, mean( (MORT - pr.full)^2 ))\n",
    "  mspe.red[j] <- with(a.te, mean( (MORT - pr.reduced)^2 ))\n",
    "}\n",
    "boxplot(mspe.full, mspe.red, names=c('Full', 'Reduced'), \n",
    "        col=c('gray80', 'tomato3'), \n",
    "        main='Air Pollution - 100 training/test splits', ylim=c(0, 5000))\n",
    "mtext(expression(hat(MSPE)), side=2, line=2.5)"
   ]
  },
  {
   "cell_type": "markdown",
   "metadata": {},
   "source": [
    "### Leave-one-out cross-validation\n",
    "\n",
    "A different procedure to estimate the prediction power of a model or method is called **leave-one-out CV**. \n",
    "One advantage of using this method is that the model we fit can use a larger training set. We discussed the \n",
    "procedure in class. Here we apply it to estimate the mean squared prediction error of the **full** and \n",
    "**reduced** models. Again, we assume that the reduced model was chosen independently from the training set."
   ]
  },
  {
   "cell_type": "code",
   "execution_count": null,
   "metadata": {},
   "outputs": [],
   "source": [
    "x <- read.csv('../Lecture1/rutgers-lib-30861_CSV-1.csv')\n",
    "n <- nrow(x)\n",
    "pr.full <- pr.reduced <- rep(0, n)\n",
    "for(i in 1:n) {\n",
    "  full <- lm(MORT ~ . , data=x[-i, ])\n",
    "  reduced <- lm(MORT ~ POOR + HC + NOX + HOUS + NONW, data=x[-i, ])\n",
    "  pr.full[i] <- predict(full, newdata = x[i, ])\n",
    "  pr.reduced[i] <- predict(reduced, newdata = x[i, ])\n",
    "}\n",
    "mean( (x$MORT - pr.full)^2 )"
   ]
  },
  {
   "cell_type": "code",
   "execution_count": null,
   "metadata": {},
   "outputs": [],
   "source": [
    "mean( (x$MORT - pr.reduced)^2 )"
   ]
  },
  {
   "cell_type": "markdown",
   "metadata": {},
   "source": [
    "### K-fold cross-validation\n",
    "\n",
    "Leave-one-out cross-validation can be computationally very demanding (or even unfeasible) when the sample size is large and training the predictor is relatively costly. One solution is called **K-fold CV**. We split the data into **K** folds, train the predictor on the data without a fold, and use it to predict the responses in the removed fold. We cycle through the folds, and use the average of the squared prediction errors as an estimate of the mean squared prediction error. The following script does **5-fold CV** for the `full` and `reduced` linear models on the pollution dataset, once again assuming that the reduced model was originally chosen without using the data."
   ]
  },
  {
   "cell_type": "code",
   "execution_count": null,
   "metadata": {},
   "outputs": [],
   "source": [
    "n <- nrow(x)\n",
    "k <- 5\n",
    "pr.full <- pr.reduced <- rep(0, n)\n",
    "# Create labels for the \"folds\"\n",
    "inds <- (1:n) %% k + 1 \n",
    "# shuffle the rows of x, this is bad coding!\n",
    "set.seed(123)\n",
    "xs <- x[ sample(n, repl=FALSE), ]\n",
    "# loop through the folds\n",
    "for(j in 1:k) {\n",
    "  x.tr <- xs[inds != j, ]\n",
    "  x.te <- xs[inds == j, ]\n",
    "  full <- lm(MORT ~ . , data=x.tr)\n",
    "  reduced <- lm(MORT ~ POOR + HC + NOX + HOUS + NONW, data=x.tr)\n",
    "  pr.full[ inds== j] <- predict(full, newdata=x.te)\n",
    "  pr.reduced[ inds==j ] <- predict(reduced, newdata=x.te)\n",
    "}\n",
    "# compare predictions\n",
    "mean( (xs$MORT - pr.full)^2 )"
   ]
  },
  {
   "cell_type": "code",
   "execution_count": null,
   "metadata": {},
   "outputs": [],
   "source": [
    "mean( (xs$MORT - pr.reduced)^2 )"
   ]
  },
  {
   "cell_type": "markdown",
   "metadata": {},
   "source": [
    "This method is clearly faster than leave-one-out CV, but the results may depend on the specific fold partition, and on the number **K** of folds used.\n",
    "\n",
    "-   One way to obtain more stable mean squared prediction errors using K-fold CV is to repeat the above procedure many times, and compare the distribution of the mean squared prediction errors for each estimator. First, fit the **full** and **reduced** models using the whole data set as training:"
   ]
  },
  {
   "cell_type": "code",
   "execution_count": null,
   "metadata": {},
   "outputs": [],
   "source": [
    "m.f <- lm(MORT ~ . , data=x)\n",
    "m.r <- lm(MORT ~ POOR + HC + NOX + HOUS + NONW, data=x)"
   ]
  },
  {
   "cell_type": "markdown",
   "metadata": {},
   "source": [
    "We will use 50 runs of 5-fold CV comparing the **full** and **reduced** models. Again, here we assume that the reduced model was not obtained using the training data."
   ]
  },
  {
   "cell_type": "code",
   "execution_count": null,
   "metadata": {},
   "outputs": [],
   "source": [
    "N <- 50\n",
    "mspe1 <- mspe2 <- vector('double', N)\n",
    "ii <- (1:(n <- nrow(x))) %% 5 + 1\n",
    "set.seed(327)\n",
    "for(i in 1:N) {\n",
    "  ii <- sample(ii)\n",
    "  pr.f <- pr.r <- vector('double', n)\n",
    "  for(j in 1:5) {\n",
    "    pr.f[ ii == j ] <- predict(update(m.f, data=x[ii != j, ]), newdata=x[ii==j,])\n",
    "    pr.r[ ii == j ] <- predict(update(m.r, data=x[ii != j, ]), newdata=x[ii==j,])\n",
    "  }\n",
    "  mspe1[i] <- with(x, mean( (MORT - pr.f)^2 ))\n",
    "  mspe2[i] <- with(x, mean( (MORT - pr.r)^2 ))\n",
    "}  \n",
    "boxplot(mspe1, mspe2, names=c('Full', 'Reduced'), \n",
    "        col=c('gray80', 'tomato3'), \n",
    "        main='Air Pollution - 50 runs 5-fold CV', ylim=c(0, 5000))\n",
    "mtext(expression(hat(MSPE)), side=2, line=2.5)"
   ]
  },
  {
   "cell_type": "markdown",
   "metadata": {},
   "source": [
    "Note that the estimated mean squared prediction error of the **reduced** model has a smaller mean / median than that of the **full** one. This tells us that the conclusion we reached favouring the reduced model (in terms of its prediction mean squared error) does not depend on a particular choice of folds. In other words, this provides more evidence to conclude that the reduced model will produce better predictions than the full one.\n",
    "\n",
    "-   A computationally simpler (albeit possibly less precise) way to account for the K-fold variability is to run K-fold CV once and use the sample standard error of the **K** *smaller* mean squared prediction errors to construct a rough *confidence interval* around the overall mean squared prediction error estimate (that is the average of the mean squared prediction errors over the K folds).\n",
    "\n",
    "-   The dependency of this MSPE on **K** is more involved. We will discuss it later."
   ]
  }
 ],
 "metadata": {
  "kernelspec": {
   "display_name": "R",
   "language": "R",
   "name": "ir"
  },
  "language_info": {
   "codemirror_mode": "r",
   "file_extension": ".r",
   "mimetype": "text/x-r-source",
   "name": "R",
   "pygments_lexer": "r",
   "version": "3.5.0"
  }
 },
 "nbformat": 4,
 "nbformat_minor": 2
}
