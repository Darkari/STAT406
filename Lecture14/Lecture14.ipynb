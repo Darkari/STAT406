{
 "cells": [
  {
   "cell_type": "markdown",
   "metadata": {},
   "source": [
    "STAT406 - Lecture 14 notes\n",
    "================\n",
    "Matias Salibian-Barrera\n",
    "2018-10-23\n",
    "\n",
    "LICENSE\n",
    "-------\n",
    "\n",
    "These notes are released under the \"Creative Commons Attribution-ShareAlike 4.0 International\" license. See the **human-readable version** [here](https://creativecommons.org/licenses/by-sa/4.0/) and the **real thing** [here](https://creativecommons.org/licenses/by-sa/4.0/legalcode).\n",
    "\n",
    "Lecture slides\n",
    "--------------\n",
    "\n",
    "Preliminary lecture slides will be here.\n",
    "\n",
    "QDA\n",
    "---\n",
    "\n",
    "Similarly to the way we derived the LDA classifier in class, if one relaxes the assumption that the conditional distribution of the vector of features **X** in each class has the same covariance matrix (*shape*) (but still assumes that these distributions are Gaussian), then it is (again) easy to find a closed form for the conditional probability of each class (conditional on a vector of features **X**). As in the LDA case, these conditional class probabilities (aka *posterior probabilities*) depend on the parameters of the assumed model for the conditional distributions of **X** in each class. So, again, we estimate those parameters from the training set (usin the observations in each group) and plug them in to compute the conditional class probabilities.\n",
    "\n",
    "Similarly to what we did for LDA, it is easy to see that in this case the class boundaries are quadratic functions of the vector of features **X**.\n",
    "\n",
    "We now illustrate QDA on the same `vaso` data we used before. We first load the data, and train a QDA classifier using the function `qda` in package `MASS` (this can also be written as `MASS::qda()`)."
   ]
  },
  {
   "cell_type": "code",
   "execution_count": null,
   "metadata": {},
   "outputs": [],
   "source": [
    "data(vaso, package='robustbase')\n",
    "library(MASS)\n",
    "a.qda <- qda(Y ~ . , data=vaso)"
   ]
  },
  {
   "cell_type": "markdown",
   "metadata": {},
   "source": [
    "We now build a relatively fine grid of points in the domain of our 2-dimensional vector of features and use the `predict` method associated with a `qda` object to predict the conditional probability of class `blue`:"
   ]
  },
  {
   "cell_type": "code",
   "execution_count": null,
   "metadata": {},
   "outputs": [],
   "source": [
    "xvol <- seq(0, 4, length=200)\n",
    "xrat <- seq(0, 4, length=200)\n",
    "xx <- expand.grid(xvol, xrat)\n",
    "names(xx) <- c('Volume', 'Rate')\n",
    "pr.qda <- predict(a.qda, newdata=xx)$posterior[,2]\n",
    "image(xrat, xvol, matrix(pr.qda, 200, 200), col=terrain.colors(100),\n",
    "      ylab='Volume', xlab='Rate', cex.lab=1.5, cex.axis=1.5)\n",
    "points(Volume ~ Rate, data=vaso, pch=19, cex=1.5, \n",
    "       col=c('red', 'blue')[Y+1])\n",
    "contour(xrat, xvol, matrix(pr.qda, 200, 200), col='gray30', levels=.5, \n",
    "        drawlabels=FALSE, lwd=3, add=TRUE)"
   ]
  },
  {
   "cell_type": "markdown",
   "metadata": {},
   "source": [
    "We used the function `contour` above to draw the boundary between classes (the set of points where the probability of blue is equal to the probability of red).\n",
    "\n",
    "#### Sensitivity to the Gaussian assumption\n",
    "\n",
    "With the help of an example we discussed in class the sensitivity of QDA to the assumed specific conditional distribution of the features within each class. It is very easy to see that LDA may also be affected by similar problems. This is not at all surprising--in many cases optimal methods obtained under certain conditions are very sensitive to the vailidity of the assumptions used in ther derivation.\n",
    "\n",
    "It is interesting to note (as discussed in class) that logistic regression was not affected by the \"good outliers\" we included in the data. Again, this is not surprising (furthermore, I expect you to be able to explain what is happening in this particular example). Note, furthermore, that both QDA (and LDA) and logistic regression are classifiers that require the estimation of parameters (maybe we can call them *parametric classifiers*?), and in all cases so far we used maximum likelihood estimates for them. However their sensitivity to this kind of outliers is very different. Discuss!\n",
    "\n",
    "### More than 2 classes -- The handwritten digit recognition data\n",
    "\n",
    "As you may have noted, all the classification methods we have seen so far can be used in applications with an arbitrary number of classes. We will now illustrate them on the well-known Handwritten Digit Recognition Data (as usual, see `help(zip.train, package='ElemStatLearn')`). We first load the data, and extract the images corresponding to digits 0, 1 and 8. These should be challenging enough to discriminate given their shape."
   ]
  },
  {
   "cell_type": "code",
   "execution_count": null,
   "metadata": {},
   "outputs": [],
   "source": [
    "data(zip.train, package='ElemStatLearn')\n",
    "data(zip.test, package='ElemStatLearn')\n",
    "x.tr <- zip.train[ zip.train[, 1] %in% c(0, 1, 8), ]\n",
    "x.te <- zip.test[ zip.test[, 1] %in% c(0, 1, 8), ]\n",
    "table(x.tr[, 1])"
   ]
  },
  {
   "cell_type": "markdown",
   "metadata": {},
   "source": [
    "To display these 16x16 images we adapt a simple function to plot matrices:"
   ]
  },
  {
   "cell_type": "code",
   "execution_count": null,
   "metadata": {},
   "outputs": [],
   "source": [
    "# ----- Define a function for plotting a matrix ----- #\n",
    "# modified from: http://www.phaget4.org/R/image_matrix.html\n",
    "# ----- Define a function for plotting a matrix ----- #\n",
    "myImagePlot <- function(x, ...){\n",
    "  min <- min(x)\n",
    "  max <- max(x)\n",
    "  ColorRamp <- grey(seq(1,0,length=256))\n",
    "  ColorLevels <- seq(min, max, length=length(ColorRamp))\n",
    "  # Reverse Y axis\n",
    "  reverse <- nrow(x) : 1\n",
    "  x <- x[reverse,]\n",
    "  image(1:ncol(x), 1:nrow(x), t(x), col=ColorRamp, xlab=\"\",\n",
    "        ylab=\"\", axes=FALSE, zlim=c(min,max))\n",
    "}"
   ]
  },
  {
   "cell_type": "markdown",
   "metadata": {},
   "source": [
    "We choose 9 images at random and display them in a 3x3 array of images:"
   ]
  },
  {
   "cell_type": "code",
   "execution_count": null,
   "metadata": {},
   "outputs": [],
   "source": [
    "a <- x.tr\n",
    "set.seed(987)\n",
    "sa <- sample(dim(a)[1], 9)\n",
    "par(mfrow=c(3,3))\n",
    "for(j in 1:9) {\n",
    "  myImagePlot(t(matrix(unlist(a[sa[j],-1]), 16, 16)))\n",
    "}"
   ]
  },
  {
   "cell_type": "code",
   "execution_count": null,
   "metadata": {},
   "outputs": [],
   "source": [
    "par(mfrow=c(1,1))"
   ]
  },
  {
   "cell_type": "markdown",
   "metadata": {},
   "source": [
    "We can also show the \"average 8\" in the training set:"
   ]
  },
  {
   "cell_type": "code",
   "execution_count": null,
   "metadata": {},
   "outputs": [],
   "source": [
    "myImagePlot(t(matrix(colMeans(a[a[,1]==8,-1]), 16, 16)))"
   ]
  },
  {
   "cell_type": "markdown",
   "metadata": {},
   "source": [
    "We will now use LDA, QDA and a multinomial logistic model. The latter is the natural extension of logistic regression to more than 2 classes. You can easily derive it yourself by assuming the response variable has a multinomial distribution and modeling each conditional probability as a (different) logistic function of the vector **X** of features. Note that if there are *K* classes you only need to model *K-1* of these conditional class probabilities. The derivation is left as an easy exercise for you.\n",
    "\n",
    "Note that the data is stored in a matrix, but the use of `lda()`, `qda()`, etc. is clearer when you have your data in a `data frame` (as you can then refer to features by their names and use the `data` argument). So, we first transform our matrix into a data frame, and name the resulting variables *V1*, *V2*, ..., *V257*:"
   ]
  },
  {
   "cell_type": "code",
   "execution_count": null,
   "metadata": {},
   "outputs": [],
   "source": [
    "x.tr <- data.frame(x.tr)\n",
    "x.te <- data.frame(x.te)\n",
    "names( x.te ) <- names( x.tr  ) <- paste('V', 1:257, sep='')"
   ]
  },
  {
   "cell_type": "markdown",
   "metadata": {},
   "source": [
    "Now we use `lda` and `multinom` (from package `nnet`) to train an LDA and a multinomial classifier to these 3-class data:"
   ]
  },
  {
   "cell_type": "code",
   "execution_count": null,
   "metadata": {},
   "outputs": [],
   "source": [
    "a <- lda(V1 ~ . - V257, data=x.tr) #x.tr[,1] ~ x[, 2:256])\n",
    "library(nnet)\n",
    "a.log <- multinom(V1 ~ . - V257, data=x.tr, maxit=5000)"
   ]
  },
  {
   "cell_type": "markdown",
   "metadata": {},
   "source": [
    "Note how slow is the convergence of `multinom`. This is not unusual, and it has to do with how neural networks are trained (!). Refer to the corresponding help page for more information. We will probably discuss this further later in the course.\n",
    "\n",
    "For now we obtain the predictions on the test set and build a matrix of classification errors for each classifier:"
   ]
  },
  {
   "cell_type": "code",
   "execution_count": null,
   "metadata": {},
   "outputs": [],
   "source": [
    "pr.lda <- predict(a, newdata=x.te)$class\n",
    "table(pr.lda, x.te$V1)"
   ]
  },
  {
   "cell_type": "code",
   "execution_count": null,
   "metadata": {},
   "outputs": [],
   "source": [
    "pr.log <- predict(a.log, newdata=x.te)\n",
    "table(pr.log, x.te$V1)"
   ]
  },
  {
   "cell_type": "markdown",
   "metadata": {},
   "source": [
    "We now attempt to train a QDA classifier:"
   ]
  },
  {
   "cell_type": "code",
   "execution_count": null,
   "metadata": {},
   "outputs": [],
   "source": [
    "a.qda <- try(  qda(V1 ~ . - V257, data=x.tr) )\n",
    "class(a.qda)"
   ]
  },
  {
   "cell_type": "markdown",
   "metadata": {},
   "source": [
    "This classifier cannot be trained on these data. The problem is that the training set for at least one class is rank deficient (which can be found by looking at the error message stored in the returned object `a.qda`"
   ]
  },
  {
   "cell_type": "code",
   "execution_count": null,
   "metadata": {},
   "outputs": [],
   "source": [
    "a.qda"
   ]
  },
  {
   "cell_type": "markdown",
   "metadata": {},
   "source": [
    "Indeed, we have:"
   ]
  },
  {
   "cell_type": "code",
   "execution_count": null,
   "metadata": {},
   "outputs": [],
   "source": [
    "x1 <- x.tr[ x.tr$V1 == 0, ]\n",
    "dim(x1)"
   ]
  },
  {
   "cell_type": "code",
   "execution_count": null,
   "metadata": {},
   "outputs": [],
   "source": [
    "qr(x1)$rank"
   ]
  },
  {
   "cell_type": "markdown",
   "metadata": {},
   "source": [
    "The questions for you are:\n",
    "\n",
    "-   why is this rank deficiency a problem for QDA, but not for LDA, or a multinomial model?\n",
    "-   can we do anything to train a (possibly different) QDA classifier to these data?\n",
    "\n",
    "#### (Optional section) Sensitivity & Specificity\n",
    "\n",
    "**This section is still under revision, read at your own risk.**\n",
    "\n",
    "Any binary decision-making process has two important features, generally called senstivity and specificity. Intuitively these measure:\n",
    "\n",
    "-   how often it makes correct decisions (how many *cats* are correctly classified as *cats*?) (sensitivity); and\n",
    "-   how often it makes correct positive calls (how many objects classified as *cats* are indeed *cats*?) (equivalentely, how many *not cats* are **not called cats**?) (specificity).\n",
    "\n",
    "We refer back to the `vaso` data. We train both an LDA and a QDA classifier. We can derive the associated sensitivity and specificity from the misclassification table. Note that since there is no independent test set these figures may be misleading."
   ]
  },
  {
   "cell_type": "code",
   "execution_count": null,
   "metadata": {},
   "outputs": [],
   "source": [
    "a <- lda(Y ~ . , data=vaso)\n",
    "a.qda <- qda(Y ~ . , data=vaso)\n",
    "pr.lda <- as.numeric(predict(a)$class)\n",
    "pr.qda <- as.numeric(predict(a.qda)$class)\n",
    "table(pr.lda, vaso$Y)"
   ]
  },
  {
   "cell_type": "code",
   "execution_count": null,
   "metadata": {},
   "outputs": [],
   "source": [
    "table(pr.qda, vaso$Y)"
   ]
  },
  {
   "cell_type": "markdown",
   "metadata": {},
   "source": [
    "Hence we can estimate the sensitivities of LDA and QDA as 17/19 and 16/19 respectively. Their specificities are both 16/20.\n",
    "\n",
    "<!-- # sensitivity  -->\n",
    "<!-- # LDA: 16/20 = 4/5 -->\n",
    "<!-- # QDA: 16/20  -->\n",
    "<!-- # specificity -->\n",
    "<!-- # LDA: 17/19 -->\n",
    "<!-- # QDA: 16/19 -->\n",
    "For the zip code data:"
   ]
  },
  {
   "cell_type": "code",
   "execution_count": null,
   "metadata": {},
   "outputs": [],
   "source": [
    "data(zip.train, package='ElemStatLearn') \n",
    "data(zip.test, package='ElemStatLearn')\n",
    "x.tr <- data.frame( zip.train[ zip.train[, 1] %in% c(3, 8), ] )\n",
    "x.te <- data.frame( zip.test[ zip.test[, 1] %in% c(3, 8), ] )\n",
    "names( x.te ) <- names( x.tr  ) <- paste('V', 1:257, sep='')\n",
    "a <- lda(V1 ~ . - V257, data=x.tr)\n",
    "te.lda <- as.numeric(predict(a, newdata=x.te)$class)\n",
    "table(te.lda, x.te$V1)"
   ]
  },
  {
   "cell_type": "markdown",
   "metadata": {},
   "source": [
    "<!-- # sensitivity - test -->\n",
    "<!-- # 350/ 359 = 97.4% -->\n",
    "<!-- # specificity - test -->\n",
    "<!-- # 160 / 166 = 96.4% -->\n",
    "<!-- # build the ROC curve -->\n",
    "<!-- te.lda <- predict(a, newdata=x.te)$posterior[,1] -->\n",
    "<!-- sens <- spec <- rep(0, 50) -->\n",
    "<!-- als <- seq(0, 1, length=51) -->\n",
    "<!-- for(i in 1:50) { -->\n",
    "<!--   npr.1 <- (te.lda > als[i]) -->\n",
    "<!--   npr.2 <- !npr.1 -->\n",
    "<!--   sens[i] <- sum( (as.numeric(as.factor(x.te$V1)) == 1) & npr.1 ) -->\n",
    "<!--   spec[i] <- sum( (as.numeric(as.factor(x.te$V1)) == 2) & npr.2 ) -->\n",
    "<!-- } -->\n",
    "<!-- sens <- sens / sum(as.numeric(as.factor(x.te$V1)) == 1) -->\n",
    "<!-- spec <- spec / sum(as.numeric(as.factor(x.te$V1)) == 2) -->\n",
    "<!-- plot(1-spec, sens, type='b', ylim=c(0,1), xlim=c(0,1)) -->\n",
    "K-Nearest Neighbours (K-NN)\n",
    "---------------------------\n",
    "\n",
    "Perhaps the intuitively simplest model-free estimator for conditional class probabilities for a given set of feature values **X** is the one based on nearest neighbours (as discussed in class). It is similar (in *spirit*) to the kernel regression estimator in the continuous-response regression setting. More specifically, it can be thought of as a variable-bandwidth kernel estimator. For a point **X** in the feature space we look at the proportion of observations in each class among **X**'s K-th closest neighbours. That is, of course, equivalent to looking at all points (*Y*<sub>*i*</sub>, **X**<sub>*i*</sub>) in the training set such that ∥**X**<sub>*i*</sub>−**X**∥ ≤ *h*<sub>*k*</sub>, where *h*<sub>*k*</sub> is the distance from **X** to the K-th closest neighbour in the training set. Refer to the discussion in class for more details.\n",
    "\n",
    "Here we will illustrate K-NN classifiers on the toy `vaso` example (to be able to visualize the results more easily), and also on the hand written digits data. We will use the function `knn` in package `class`. This function takes a training set, and also a *test* set (i.e. a different data set containing the observations to be predicted). In the example below we first create (as we have done before) a 200 x 200 grid of points and display the resulting predicted probabilities (or the corresponding class with highest conditional probability).\n",
    "\n",
    "We first we use a trivial 1-NN classifier: the estimated conditional probabilities for each class at a point **X**, will simply be 0 or 1 depending on the class of the closest neighbour to **X** in the training set."
   ]
  },
  {
   "cell_type": "code",
   "execution_count": null,
   "metadata": {},
   "outputs": [],
   "source": [
    "library(class)\n",
    "data(vaso, package='robustbase')\n",
    "x1 <- seq(0, 4, length=200)\n",
    "x2 <- seq(0, 4, length=200)\n",
    "xx <- expand.grid(x1, x2)\n",
    "u1 <- knn(train=vaso[, c(2, 1)], cl=vaso[,3], test=xx, k=1)\n",
    "u1 <- as.numeric(u1)\n",
    "image(x1, x2, matrix(u1, 200, 200), col=terrain.colors(100),\n",
    "      ylab='Volume', xlab='Rate', main='1-NN')\n",
    "points(Volume ~ Rate, data=vaso, pch=19, cex=1.5,\n",
    "       col=c('red', 'blue')[Y+1])"
   ]
  },
  {
   "cell_type": "markdown",
   "metadata": {},
   "source": [
    "We repeat the analysis with a 5-NN classifier. Now the estimated conditional probabilities for each **X** in the grid can be 0, 0.20, 0.40, 0.60, 0.80 or 1 (why?) The function `knn` returns the estimated probabilities in the `'prob'` attribute of the returned object, so we need to use the function `attr` to extract it (as usual, the R help pages are a good source of information if you have any questions about the code below):"
   ]
  },
  {
   "cell_type": "code",
   "execution_count": null,
   "metadata": {},
   "outputs": [],
   "source": [
    "u5 <- attr(knn(train=vaso[, c(2, 1)], cl=vaso[,3], test=xx, k=5, prob=TRUE),\n",
    "           'prob')\n",
    "image(x1, x2, matrix(u5, 200, 200), col=terrain.colors(100),\n",
    "      ylab='Volume', xlab='Rate', main='5-NN')\n",
    "points(Volume ~ Rate, data=vaso, pch=19, cex=1.5,\n",
    "       col=c('red', 'blue')[Y+1])"
   ]
  },
  {
   "cell_type": "markdown",
   "metadata": {},
   "source": [
    "We now turn to the digits data. Just to be safe we re-create the training and test set for the digits 1, 3 and 8 and look at the misclassification tables on the test set."
   ]
  },
  {
   "cell_type": "code",
   "execution_count": null,
   "metadata": {},
   "outputs": [],
   "source": [
    "data(zip.train, package='ElemStatLearn') \n",
    "data(zip.test, package='ElemStatLearn')\n",
    "x.tr <- data.frame( zip.train[ zip.train[, 1] %in% c(3, 8), ] )\n",
    "x.te <- data.frame( zip.test[ zip.test[, 1] %in% c(3, 8), ] )\n",
    "names( x.te ) <- names( x.tr  ) <- paste('V', 1:257, sep='')"
   ]
  },
  {
   "cell_type": "markdown",
   "metadata": {},
   "source": [
    "We now train 1-, 5-, 10- and 50-NN classifiers and evaluate them on the test set. We report the misclassification rate on the test set, along with the corresponding tables:"
   ]
  },
  {
   "cell_type": "code",
   "execution_count": null,
   "metadata": {},
   "outputs": [],
   "source": [
    "u1 <- knn(train=x.tr[,-1], cl=x.tr[,1], test=x.te[, -1], k=1)\n",
    "table(u1, x.te$V1)"
   ]
  },
  {
   "cell_type": "code",
   "execution_count": null,
   "metadata": {},
   "outputs": [],
   "source": [
    "mean( u1 != x.te$V1 )"
   ]
  },
  {
   "cell_type": "code",
   "execution_count": null,
   "metadata": {},
   "outputs": [],
   "source": [
    "u5 <- knn(train=x.tr[,-1], cl=x.tr[,1], test=x.te[, -1], k=5)\n",
    "table(u5, x.te$V1)"
   ]
  },
  {
   "cell_type": "code",
   "execution_count": null,
   "metadata": {},
   "outputs": [],
   "source": [
    "mean( u5 != x.te$V1 )"
   ]
  },
  {
   "cell_type": "code",
   "execution_count": null,
   "metadata": {},
   "outputs": [],
   "source": [
    "u10 <- knn(train=x.tr[,-1], cl=x.tr[,1], test=x.te[, -1], k=10)\n",
    "table(u10, x.te$V1)"
   ]
  },
  {
   "cell_type": "code",
   "execution_count": null,
   "metadata": {},
   "outputs": [],
   "source": [
    "mean( u10 != x.te$V1 )"
   ]
  },
  {
   "cell_type": "code",
   "execution_count": null,
   "metadata": {},
   "outputs": [],
   "source": [
    "u50 <- knn(train=x.tr[,-1], cl=x.tr[,1], test=x.te[, -1], k=50)\n",
    "table(u50, x.te$V1)"
   ]
  },
  {
   "cell_type": "code",
   "execution_count": null,
   "metadata": {},
   "outputs": [],
   "source": [
    "mean( u50 != x.te$V1 )"
   ]
  },
  {
   "cell_type": "markdown",
   "metadata": {},
   "source": [
    "Note how the performance of the K-NN classifier in this case stops improving when K is 10 or more. Since the number *K* of nearest neighbours is in fact a tuning constant that needs to be chosen by the user, how would do it in an objective manner? What would you do if you didn't have a test set available?\n",
    "\n",
    "#### Challenges for K-NN classifiers\n",
    "\n",
    "-   It is easy to see that they suffer from the *curse of dimensionality*.\n",
    "-   Factor or binary features need to be treated with care.\n",
    "-   Euclidean distances do not reflect *shape* of features in each class (i.e. the conditional distribution of **X** in each class). Class-wise pre-standardization (whitening) might be useful.\n",
    "\n",
    "To illustrate the last point, consider this toy synthetic example we discussed in class:\n",
    "\n",
    "![](README_files/figure-markdown_github/knntrouble-1.png)\n",
    "\n",
    "Classification Trees\n",
    "--------------------\n",
    "\n",
    "Just as in the continuous regression case, when the number of available explanatory variables is moderate or large, methods like nearest neighbours quickly become unfeasible, or their performance is not satisfactory. Classification trees provide a good alternative: they are still model-free (we do not need to assume anything about the true conditional probabilities of each class for a given vector of features **X**), but they are constrained to have a fairly specifc form. Intuitively (and informally) we could say (if nobody was listening) that this restriction provides some form of regularization or penalization.\n",
    "\n",
    "Classification trees are constructed in much the same was as regression trees. We will construct a partition of the feature space (in \"rectangular\" areas), and within each region we will predict the class to be the most common class among the training points that are in that region. It is reasonable then to try to find a partition of the feature space so that in each area there is only one class (or at least, such that one class clearly dominates the others in that region). Hence, to build a classification tree we need a quantitative measure of the homogeneity of the classes present in a node. Given such a numerical measure, we can build the tree by selecting, at each step, the optimal split in the sense of yielding the most homogeneous child leaves possible (i.e. by maximizing at each step the chosen homogeneity measure). The two most common homogeneity measures are the Gini Index and the deviance (refer to the discussion in class). Although the resulting trees are generally different depending on which loss function is used, we will later see that this difference is not critical in practice.\n",
    "\n",
    "As usual, in order to be able to visualize what is going on, we will illustrate the training and use of classification trees on a simple toy example. This example contains data on admissions to graduate school. There are 2 explanatory variables (GPA and GMAT scores), and the response has 3 levels: Admitted, No decision, Not admitted. The purpose here is to build a classifier to decide if a student will be admitted to graduate school based on her/his GMAT and GPA scores.\n",
    "\n",
    "We first read the data, convert the response into a proper `factor` variable, and visualize the training set:"
   ]
  },
  {
   "cell_type": "code",
   "execution_count": null,
   "metadata": {},
   "outputs": [],
   "source": [
    "mm <- read.table('T11-6.DAT', header=FALSE)\n",
    "mm$V3 <- as.factor(mm$V3)\n",
    "# re-scale one feature, for better plots\n",
    "mm[,2] <- mm[,2] / 150\n",
    "plot(mm[,1:2], pch=19, cex=1.5, col=c(\"red\", \"blue\", \"green\")[mm[,3]], \n",
    "xlab='GPA', 'GMAT', xlim=c(2,5), ylim=c(2,5))"
   ]
  },
  {
   "cell_type": "markdown",
   "metadata": {},
   "source": [
    "Next we build a classification tree using the Gini index as splitting criterion."
   ]
  },
  {
   "cell_type": "code",
   "execution_count": null,
   "metadata": {},
   "outputs": [],
   "source": [
    "library(rpart)\n",
    "a.t <- rpart(V3~V1+V2, data=mm, method='class', parms=list(split='gini'))\n",
    "plot(a.t, margin=0.05)\n",
    "text(a.t, use.n=TRUE)"
   ]
  },
  {
   "cell_type": "markdown",
   "metadata": {},
   "source": [
    "If we use the deviance as splitting criterion instead, we obtain the following classification tree (also using the default stopping criteria):"
   ]
  },
  {
   "cell_type": "code",
   "execution_count": null,
   "metadata": {},
   "outputs": [],
   "source": [
    "a.t <- rpart(V3~V1+V2, data=mm, method='class', parms=list(split='information'))\n",
    "plot(a.t, margin=0.05)\n",
    "text(a.t, use.n=TRUE)"
   ]
  },
  {
   "cell_type": "markdown",
   "metadata": {},
   "source": [
    "The predicted conditional probabilities for each class on the range of values of the explanatory variables present on the training set can be visualized exactly as before:"
   ]
  },
  {
   "cell_type": "code",
   "execution_count": null,
   "metadata": {},
   "outputs": [],
   "source": [
    "aa <- seq(2, 5, length=200)\n",
    "bb <- seq(2, 5, length=200)\n",
    "dd <- expand.grid(aa, bb)\n",
    "names(dd) <- names(mm)[1:2]\n",
    "p.t <- predict(a.t, newdata=dd, type='prob')"
   ]
  },
  {
   "cell_type": "markdown",
   "metadata": {},
   "source": [
    "We display the estimated conditional probabilities for each class:"
   ]
  },
  {
   "cell_type": "code",
   "execution_count": null,
   "metadata": {},
   "outputs": [],
   "source": [
    "filled.contour(aa, bb, matrix(p.t[,1], 200, 200), col=terrain.colors(20), xlab='GPA', ylab='GMAT',\n",
    "               panel.last={points(mm[,-3], pch=19, cex=1.5, col=c(\"red\", \"blue\", \"green\")[mm[,3]])\n",
    "               })"
   ]
  },
  {
   "cell_type": "code",
   "execution_count": null,
   "metadata": {},
   "outputs": [],
   "source": [
    "filled.contour(aa, bb, matrix(p.t[,2], 200, 200), col=terrain.colors(20), xlab='GPA', ylab='GMAT',\n",
    "               panel.last={points(mm[,-3], pch=19, cex=1.5, col=c(\"red\", \"blue\", \"green\")[mm[,3]])\n",
    "               })"
   ]
  },
  {
   "cell_type": "code",
   "execution_count": null,
   "metadata": {},
   "outputs": [],
   "source": [
    "filled.contour(aa, bb, matrix(p.t[,3], 200, 200), col=terrain.colors(20), xlab='GPA', ylab='GMAT',\n",
    "               panel.last={points(mm[,-3], pch=19, cex=1.5, col=c(\"red\", \"blue\", \"green\")[mm[,3]])\n",
    "               })"
   ]
  },
  {
   "cell_type": "markdown",
   "metadata": {},
   "source": [
    "#### Pruning\n",
    "\n",
    "Just like regression trees, classification trees generally perform better if they are built by pruning an overfitting one. This is done in the same way as it is done for classification trees. When we do it on the graduate school admissions data we indeed obtain estimated conditional probabilities that appear to be more sensible (less \"simple\"):"
   ]
  },
  {
   "cell_type": "code",
   "execution_count": null,
   "metadata": {},
   "outputs": [],
   "source": [
    "set.seed(123)\n",
    "a.t <- rpart(V3~V1+V2, data=mm, method='class', control=rpart.control(minsplit=3, cp=1e-8, xval=10),\n",
    "             parms=list(split='information'))\n",
    "b <- a.t$cptable[which.min(a.t$cptable[,\"xerror\"]),\"CP\"]\n",
    "a.t <- prune(a.t, cp=b)\n",
    "p.t <- predict(a.t, newdata=dd, type='prob')\n",
    "filled.contour(aa, bb, matrix(p.t[,1], 200, 200), col=terrain.colors(20), xlab='GPA', ylab='GMAT',\n",
    "               panel.last={points(mm[,-3], pch=19, cex=1.5, col=c(\"red\", \"blue\", \"green\")[mm[,3]])\n",
    "               })"
   ]
  },
  {
   "cell_type": "code",
   "execution_count": null,
   "metadata": {},
   "outputs": [],
   "source": [
    "filled.contour(aa, bb, matrix(p.t[,2], 200, 200), col=terrain.colors(20), xlab='GPA', ylab='GMAT',\n",
    "               panel.last={points(mm[,-3], pch=19, cex=1.5, col=c(\"red\", \"blue\", \"green\")[mm[,3]])\n",
    "               })"
   ]
  },
  {
   "cell_type": "code",
   "execution_count": null,
   "metadata": {},
   "outputs": [],
   "source": [
    "filled.contour(aa, bb, matrix(p.t[,3], 200, 200), col=terrain.colors(20), xlab='GPA', ylab='GMAT',\n",
    "               panel.last={points(mm[,-3], pch=19, cex=1.5, col=c(\"red\", \"blue\", \"green\")[mm[,3]])\n",
    "               })"
   ]
  }
 ],
 "metadata": {
  "kernelspec": {
   "display_name": "R",
   "language": "R",
   "name": "ir"
  },
  "language_info": {
   "codemirror_mode": "r",
   "file_extension": ".r",
   "mimetype": "text/x-r-source",
   "name": "R",
   "pygments_lexer": "r",
   "version": "3.4.4"
  }
 },
 "nbformat": 4,
 "nbformat_minor": 2
}
